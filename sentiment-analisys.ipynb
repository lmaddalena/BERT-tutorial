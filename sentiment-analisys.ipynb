{
 "cells": [
  {
   "cell_type": "markdown",
   "metadata": {},
   "source": [
    "# Sentiment Analisys using BERT\n",
    "https://colab.research.google.com/github/jalammar/jalammar.github.io/blob/master/notebooks/bert/A_Visual_Notebook_to_Using_BERT_for_the_First_Time.ipynb"
   ]
  },
  {
   "cell_type": "code",
   "execution_count": 223,
   "metadata": {},
   "outputs": [],
   "source": [
    "import numpy as np\n",
    "import pandas as pd\n",
    "import tensorflow as tf\n",
    "import transformers as ppb \n",
    "import matplotlib.pyplot as plt\n",
    "from tensorflow import keras\n"
   ]
  },
  {
   "cell_type": "markdown",
   "metadata": {},
   "source": [
    "### import the dataset"
   ]
  },
  {
   "cell_type": "code",
   "execution_count": 224,
   "metadata": {},
   "outputs": [],
   "source": [
    "df = pd.read_csv('https://github.com/clairett/pytorch-sentiment-classification/raw/master/data/SST2/train.tsv', delimiter='\\t', header=None)\n",
    "\n",
    "df = df[:1000]"
   ]
  },
  {
   "cell_type": "code",
   "execution_count": 225,
   "metadata": {},
   "outputs": [
    {
     "data": {
      "text/plain": [
       "<bound method DataFrame.count of                                                      0  1\n",
       "0    a stirring , funny and finally transporting re...  1\n",
       "1    apparently reassembled from the cutting room f...  0\n",
       "2    they presume their audience wo n't sit still f...  0\n",
       "3    this is a visually stunning rumination on love...  1\n",
       "4    jonathan parker 's bartleby should have been t...  1\n",
       "..                                                 ... ..\n",
       "995  instead of letting the laughs come as they may...  0\n",
       "996  this tuxedo should have been sent back to the ...  0\n",
       "997  ever see one of those comedies that just seem ...  0\n",
       "998  the film is impressive for the sights and soun...  1\n",
       "999  for most of its footage , the new thriller pro...  1\n",
       "\n",
       "[1000 rows x 2 columns]>"
      ]
     },
     "execution_count": 225,
     "metadata": {},
     "output_type": "execute_result"
    }
   ],
   "source": [
    "df.count"
   ]
  },
  {
   "cell_type": "code",
   "execution_count": 226,
   "metadata": {},
   "outputs": [
    {
     "data": {
      "image/png": "[encoded data removed]",
      "text/plain": [
       "<Figure size 432x288 with 1 Axes>"
      ]
     },
     "metadata": {
      "needs_background": "light"
     },
     "output_type": "display_data"
    }
   ],
   "source": [
    "labels = df[1]\n",
    "plt.hist(labels)\n",
    "plt.xlabel('sentiment')\n",
    "plt.ylabel('nb samples')\n",
    "plt.title('sentiment distribution')\n",
    "plt.xticks(np.arange(len(np.unique(labels))));"
   ]
  },
  {
   "cell_type": "markdown",
   "metadata": {},
   "source": [
    "### Loading the Pre-trained BERT model"
   ]
  },
  {
   "cell_type": "code",
   "execution_count": 227,
   "metadata": {},
   "outputs": [
    {
     "name": "stderr",
     "output_type": "stream",
     "text": [
      "Some layers from the model checkpoint at distilbert-base-uncased were not used when initializing TFDistilBertModel: ['activation_13', 'vocab_transform', 'vocab_projector', 'vocab_layer_norm']\n",
      "- This IS expected if you are initializing TFDistilBertModel from the checkpoint of a model trained on another task or with another architecture (e.g. initializing a BertForSequenceClassification model from a BertForPreTraining model).\n",
      "- This IS NOT expected if you are initializing TFDistilBertModel from the checkpoint of a model that you expect to be exactly identical (initializing a BertForSequenceClassification model from a BertForSequenceClassification model).\n",
      "All the layers of TFDistilBertModel were initialized from the model checkpoint at distilbert-base-uncased.\n",
      "If your task is similar to the task the model of the checkpoint was trained on, you can already use TFDistilBertModel for predictions without further training.\n"
     ]
    }
   ],
   "source": [
    "# For DistilBERT:\n",
    "model_class, tokenizer_class, pretrained_weights = (ppb.TFDistilBertModel, ppb.DistilBertTokenizer, 'distilbert-base-uncased')\n",
    "\n",
    "## Want BERT instead of distilBERT? Uncomment the following line:\n",
    "#model_class, tokenizer_class, pretrained_weights = (ppb.TFBertModel, ppb.BertTokenizer, 'bert-base-uncased')\n",
    "\n",
    "# Load pretrained model/tokenizer\n",
    "tokenizer = tokenizer_class.from_pretrained(pretrained_weights)\n",
    "model = model_class.from_pretrained(pretrained_weights)\n"
   ]
  },
  {
   "cell_type": "markdown",
   "metadata": {},
   "source": [
    "### Tokenization"
   ]
  },
  {
   "cell_type": "code",
   "execution_count": 228,
   "metadata": {},
   "outputs": [],
   "source": [
    "def tokenize(sentences):\n",
    "    tokenized = [tokenizer(sentence, add_special_tokens=True)['input_ids'] for sentence in sentences]\n",
    "    return tokenized\n"
   ]
  },
  {
   "cell_type": "code",
   "execution_count": 229,
   "metadata": {},
   "outputs": [],
   "source": [
    "tokenized = tokenize(df[0])"
   ]
  },
  {
   "cell_type": "code",
   "execution_count": 230,
   "metadata": {},
   "outputs": [
    {
     "name": "stdout",
     "output_type": "stream",
     "text": [
      "sentence:  a stirring , funny and finally transporting re imagining of beauty and the beast and 1930s horror films\n",
      "tokenized:  [101, 1037, 18385, 1010, 6057, 1998, 2633, 18276, 2128, 16603, 1997, 5053, 1998, 1996, 6841, 1998, 5687, 5469, 3152, 102]\n",
      "decoded:  [CLS] a stirring, funny and finally transporting re imagining of beauty and the beast and 1930s horror films [SEP]\n"
     ]
    }
   ],
   "source": [
    "print(\"sentence: \", df[0][0] )\n",
    "print(\"tokenized: \", tokenized[0])\n",
    "print(\"decoded: \", tokenizer.decode(tokenized[0]))\n"
   ]
  },
  {
   "cell_type": "markdown",
   "metadata": {},
   "source": [
    "### Padding"
   ]
  },
  {
   "cell_type": "code",
   "execution_count": 231,
   "metadata": {},
   "outputs": [],
   "source": [
    "def get_max_length(tokens):\n",
    "    max_len = 0\n",
    "    for i in tokens:\n",
    "        if len(i) > max_len:\n",
    "            max_len = len(i)\n",
    "    return max_len"
   ]
  },
  {
   "cell_type": "code",
   "execution_count": 232,
   "metadata": {},
   "outputs": [
    {
     "name": "stdout",
     "output_type": "stream",
     "text": [
      "Max sentence legth is  59\n"
     ]
    }
   ],
   "source": [
    "max_len = get_max_length(tokenized)\n",
    "print(\"Max sentence legth is \", max_len)"
   ]
  },
  {
   "cell_type": "code",
   "execution_count": 233,
   "metadata": {},
   "outputs": [],
   "source": [
    "def pad_tokens(tokens, max_len):\n",
    "    padded = np.array([i + [0]*(max_len-len(i)) for i in tokens])\n",
    "    return padded"
   ]
  },
  {
   "cell_type": "code",
   "execution_count": 234,
   "metadata": {},
   "outputs": [],
   "source": [
    "padded = pad_tokens(tokenized, max_len)"
   ]
  },
  {
   "cell_type": "code",
   "execution_count": 235,
   "metadata": {},
   "outputs": [
    {
     "name": "stdout",
     "output_type": "stream",
     "text": [
      "[  101  1037 18385  1010  6057  1998  2633 18276  2128 16603  1997  5053\n",
      "  1998  1996  6841  1998  5687  5469  3152   102     0     0     0     0\n",
      "     0     0     0     0     0     0     0     0     0     0     0     0\n",
      "     0     0     0     0     0     0     0     0     0     0     0     0\n",
      "     0     0     0     0     0     0     0     0     0     0     0]\n"
     ]
    }
   ],
   "source": [
    "print(padded[0])"
   ]
  },
  {
   "cell_type": "code",
   "execution_count": 236,
   "metadata": {},
   "outputs": [
    {
     "name": "stdout",
     "output_type": "stream",
     "text": [
      "shape of padded:  (1000, 59)\n"
     ]
    }
   ],
   "source": [
    "print(\"shape of padded: \", padded.shape)"
   ]
  },
  {
   "cell_type": "markdown",
   "metadata": {},
   "source": [
    "### Masking\n",
    "If we directly send padded to BERT, that would slightly confuse it. We need to create another variable to tell it to ignore (mask) the padding we've added when it's processing its input."
   ]
  },
  {
   "cell_type": "code",
   "execution_count": 237,
   "metadata": {},
   "outputs": [],
   "source": [
    "def get_attention_mask(tokens):\n",
    "    attention_mask = np.where(tokens != 0, 1, 0)    \n",
    "    return attention_mask"
   ]
  },
  {
   "cell_type": "code",
   "execution_count": 238,
   "metadata": {},
   "outputs": [
    {
     "name": "stdout",
     "output_type": "stream",
     "text": [
      "[1 1 1 1 1 1 1 1 1 1 1 1 1 1 1 1 1 1 1 1 0 0 0 0 0 0 0 0 0 0 0 0 0 0 0 0 0\n",
      " 0 0 0 0 0 0 0 0 0 0 0 0 0 0 0 0 0 0 0 0 0 0]\n"
     ]
    }
   ],
   "source": [
    "attention_mask = get_attention_mask(padded)\n",
    "print(attention_mask[0])"
   ]
  },
  {
   "cell_type": "markdown",
   "metadata": {},
   "source": [
    "### Create input tensors (putting all together)"
   ]
  },
  {
   "cell_type": "code",
   "execution_count": 239,
   "metadata": {},
   "outputs": [],
   "source": [
    "input_ids = tf.convert_to_tensor(padded, dtype=tf.int32)\n",
    "attention_mask = tf.convert_to_tensor(attention_mask, dtype=tf.int32)\n",
    "\n"
   ]
  },
  {
   "cell_type": "markdown",
   "metadata": {},
   "source": [
    "The model() function runs our sentences through BERT. The results of the processing will be returned into last_hidden_states."
   ]
  },
  {
   "cell_type": "code",
   "execution_count": 240,
   "metadata": {},
   "outputs": [],
   "source": [
    "\n",
    "last_hidden_states = model(input_ids, attention_mask = attention_mask)"
   ]
  },
  {
   "cell_type": "code",
   "execution_count": 241,
   "metadata": {},
   "outputs": [
    {
     "name": "stdout",
     "output_type": "stream",
     "text": [
      "tensor shape (n_samples, max_len, hidden_units): \n"
     ]
    },
    {
     "data": {
      "text/plain": [
       "(None, TensorShape([1000, 59, 768]))"
      ]
     },
     "execution_count": 241,
     "metadata": {},
     "output_type": "execute_result"
    }
   ],
   "source": [
    "print(\"tensor shape (n_samples, max_len, hidden_units): \"), last_hidden_states[0].shape\n"
   ]
  },
  {
   "cell_type": "markdown",
   "metadata": {},
   "source": [
    "Let's slice only the part of the output that we need. That is the output corresponding the first token of each sentence. The way BERT does sentence classification, is that it adds a token called [CLS] (for classification) at the beginning of every sentence. The output corresponding to that token can be thought of as an embedding for the entire sentence."
   ]
  },
  {
   "cell_type": "code",
   "execution_count": 242,
   "metadata": {},
   "outputs": [],
   "source": [
    "features = last_hidden_states[0][:,0,:].numpy()\n",
    "\n",
    "## if you use BERT instead of distilBERT model, uncomment this\n",
    "#features = last_hidden_states[1].numpy() \n"
   ]
  },
  {
   "cell_type": "code",
   "execution_count": 243,
   "metadata": {},
   "outputs": [
    {
     "data": {
      "text/plain": [
       "(1000, 768)"
      ]
     },
     "execution_count": 243,
     "metadata": {},
     "output_type": "execute_result"
    }
   ],
   "source": [
    "features.shape"
   ]
  },
  {
   "cell_type": "markdown",
   "metadata": {},
   "source": [
    "### Labels\n"
   ]
  },
  {
   "cell_type": "code",
   "execution_count": 244,
   "metadata": {},
   "outputs": [],
   "source": [
    "lables = df[1].to_numpy()"
   ]
  },
  {
   "cell_type": "markdown",
   "metadata": {},
   "source": [
    "### Train/Test Split"
   ]
  },
  {
   "cell_type": "code",
   "execution_count": 245,
   "metadata": {},
   "outputs": [
    {
     "name": "stdout",
     "output_type": "stream",
     "text": [
      "shapes of training data:  (800, 768) (800,)\n",
      "shapes of test data:  (200, 768) (200,)\n"
     ]
    }
   ],
   "source": [
    "# 80% train, 20% test\n",
    "split_size = int(features.shape[0] * .8)    \n",
    "X_train = features[:split_size,:]\n",
    "Y_train = lables[:split_size]\n",
    "X_test = features[split_size:,:]\n",
    "Y_test = lables[split_size:]\n",
    "\n",
    "print(\"shapes of training data: \", X_train.shape, Y_train.shape)\n",
    "print(\"shapes of test data: \", X_test.shape, Y_test.shape)"
   ]
  },
  {
   "cell_type": "markdown",
   "metadata": {},
   "source": [
    "### Create the Logistic Regression Model"
   ]
  },
  {
   "cell_type": "code",
   "execution_count": 246,
   "metadata": {},
   "outputs": [],
   "source": [
    "def create_model(input_shape, classes):\n",
    "    inputs = keras.Input(shape=input_shape, name='input')\n",
    "    #h1 = keras.layers.Dense(1024, activation='relu', name='h1')(inputs)    \n",
    "    #h2 = keras.layers.Dense(512, activation='relu', name='h2')(h1)\n",
    "    #h3 = keras.layers.Dense(32, activation='relu', name='h3')(h2)\n",
    "    d1 = keras.layers.Dropout(0.1, name='d1')(inputs)\n",
    "    outputs = keras.layers.Dense(classes, activation='sigmoid', name='output')(d1)\n",
    "    model = tf.keras.Model(inputs=inputs, outputs=outputs)\n",
    "\n",
    "    optimizer = tf.keras.optimizers.Adam()\n",
    "\n",
    "    model.compile(\n",
    "        loss='binary_crossentropy', \n",
    "        optimizer=optimizer, \n",
    "        metrics=['binary_accuracy']\n",
    "    )\n",
    "\n",
    "    return model"
   ]
  },
  {
   "cell_type": "code",
   "execution_count": 247,
   "metadata": {},
   "outputs": [
    {
     "name": "stdout",
     "output_type": "stream",
     "text": [
      "Model: \"model_6\"\n",
      "_________________________________________________________________\n",
      "Layer (type)                 Output Shape              Param #   \n",
      "=================================================================\n",
      "input (InputLayer)           [(None, 768)]             0         \n",
      "_________________________________________________________________\n",
      "d1 (Dropout)                 (None, 768)               0         \n",
      "_________________________________________________________________\n",
      "output (Dense)               (None, 1)                 769       \n",
      "=================================================================\n",
      "Total params: 769\n",
      "Trainable params: 769\n",
      "Non-trainable params: 0\n",
      "_________________________________________________________________\n"
     ]
    }
   ],
   "source": [
    "lr_model = create_model(X_train.shape[1], 1)\n",
    "lr_model.summary()\n"
   ]
  },
  {
   "cell_type": "code",
   "execution_count": 248,
   "metadata": {},
   "outputs": [
    {
     "name": "stdout",
     "output_type": "stream",
     "text": [
      "Epoch 1/100\n",
      "5/5 [==============================] - 0s 25ms/step - loss: 0.7402 - binary_accuracy: 0.5156 - val_loss: 0.7041 - val_binary_accuracy: 0.5125\n",
      "Epoch 2/100\n",
      "5/5 [==============================] - 0s 6ms/step - loss: 0.6891 - binary_accuracy: 0.5594 - val_loss: 0.7023 - val_binary_accuracy: 0.5125\n",
      "Epoch 3/100\n",
      "5/5 [==============================] - 0s 5ms/step - loss: 0.6823 - binary_accuracy: 0.5547 - val_loss: 0.6947 - val_binary_accuracy: 0.5625\n",
      "Epoch 4/100\n",
      "5/5 [==============================] - 0s 5ms/step - loss: 0.6717 - binary_accuracy: 0.5875 - val_loss: 0.6756 - val_binary_accuracy: 0.6000\n",
      "Epoch 5/100\n",
      "5/5 [==============================] - 0s 5ms/step - loss: 0.6507 - binary_accuracy: 0.6250 - val_loss: 0.6580 - val_binary_accuracy: 0.6187\n",
      "Epoch 6/100\n",
      "5/5 [==============================] - 0s 5ms/step - loss: 0.6462 - binary_accuracy: 0.6344 - val_loss: 0.6462 - val_binary_accuracy: 0.6562\n",
      "Epoch 7/100\n",
      "5/5 [==============================] - 0s 5ms/step - loss: 0.6418 - binary_accuracy: 0.6359 - val_loss: 0.6360 - val_binary_accuracy: 0.6750\n",
      "Epoch 8/100\n",
      "5/5 [==============================] - 0s 6ms/step - loss: 0.6313 - binary_accuracy: 0.6672 - val_loss: 0.6268 - val_binary_accuracy: 0.7312\n",
      "Epoch 9/100\n",
      "5/5 [==============================] - 0s 7ms/step - loss: 0.6129 - binary_accuracy: 0.7063 - val_loss: 0.6174 - val_binary_accuracy: 0.7312\n",
      "Epoch 10/100\n",
      "5/5 [==============================] - 0s 7ms/step - loss: 0.6072 - binary_accuracy: 0.7000 - val_loss: 0.6081 - val_binary_accuracy: 0.7250\n",
      "Epoch 11/100\n",
      "5/5 [==============================] - 0s 6ms/step - loss: 0.5930 - binary_accuracy: 0.7406 - val_loss: 0.5994 - val_binary_accuracy: 0.7375\n",
      "Epoch 12/100\n",
      "5/5 [==============================] - 0s 6ms/step - loss: 0.5930 - binary_accuracy: 0.7312 - val_loss: 0.5913 - val_binary_accuracy: 0.7437\n",
      "Epoch 13/100\n",
      "5/5 [==============================] - 0s 6ms/step - loss: 0.5892 - binary_accuracy: 0.7156 - val_loss: 0.5856 - val_binary_accuracy: 0.7188\n",
      "Epoch 14/100\n",
      "5/5 [==============================] - 0s 10ms/step - loss: 0.5741 - binary_accuracy: 0.7500 - val_loss: 0.5782 - val_binary_accuracy: 0.7250\n",
      "Epoch 15/100\n",
      "5/5 [==============================] - 0s 5ms/step - loss: 0.5678 - binary_accuracy: 0.7469 - val_loss: 0.5715 - val_binary_accuracy: 0.7250\n",
      "Epoch 16/100\n",
      "5/5 [==============================] - 0s 5ms/step - loss: 0.5570 - binary_accuracy: 0.7641 - val_loss: 0.5650 - val_binary_accuracy: 0.7312\n",
      "Epoch 17/100\n",
      "5/5 [==============================] - 0s 10ms/step - loss: 0.5536 - binary_accuracy: 0.7766 - val_loss: 0.5593 - val_binary_accuracy: 0.7500\n",
      "Epoch 18/100\n",
      "5/5 [==============================] - 0s 5ms/step - loss: 0.5489 - binary_accuracy: 0.7641 - val_loss: 0.5541 - val_binary_accuracy: 0.7563\n",
      "Epoch 19/100\n",
      "5/5 [==============================] - 0s 5ms/step - loss: 0.5392 - binary_accuracy: 0.7734 - val_loss: 0.5487 - val_binary_accuracy: 0.7563\n",
      "Epoch 20/100\n",
      "5/5 [==============================] - 0s 6ms/step - loss: 0.5344 - binary_accuracy: 0.7703 - val_loss: 0.5440 - val_binary_accuracy: 0.7563\n",
      "Epoch 21/100\n",
      "5/5 [==============================] - 0s 5ms/step - loss: 0.5353 - binary_accuracy: 0.7734 - val_loss: 0.5396 - val_binary_accuracy: 0.7500\n",
      "Epoch 22/100\n",
      "5/5 [==============================] - 0s 6ms/step - loss: 0.5244 - binary_accuracy: 0.7781 - val_loss: 0.5346 - val_binary_accuracy: 0.7563\n",
      "Epoch 23/100\n",
      "5/5 [==============================] - 0s 6ms/step - loss: 0.5230 - binary_accuracy: 0.7734 - val_loss: 0.5307 - val_binary_accuracy: 0.7500\n",
      "Epoch 24/100\n",
      "5/5 [==============================] - 0s 6ms/step - loss: 0.5199 - binary_accuracy: 0.7922 - val_loss: 0.5270 - val_binary_accuracy: 0.7688\n",
      "Epoch 25/100\n",
      "5/5 [==============================] - 0s 6ms/step - loss: 0.5130 - binary_accuracy: 0.7984 - val_loss: 0.5239 - val_binary_accuracy: 0.7625\n",
      "Epoch 26/100\n",
      "5/5 [==============================] - 0s 5ms/step - loss: 0.5070 - binary_accuracy: 0.8016 - val_loss: 0.5194 - val_binary_accuracy: 0.7688\n",
      "Epoch 27/100\n",
      "5/5 [==============================] - 0s 6ms/step - loss: 0.5060 - binary_accuracy: 0.7906 - val_loss: 0.5157 - val_binary_accuracy: 0.7625\n",
      "Epoch 28/100\n",
      "5/5 [==============================] - 0s 6ms/step - loss: 0.5054 - binary_accuracy: 0.7969 - val_loss: 0.5129 - val_binary_accuracy: 0.7688\n",
      "Epoch 29/100\n",
      "5/5 [==============================] - 0s 6ms/step - loss: 0.4949 - binary_accuracy: 0.8125 - val_loss: 0.5101 - val_binary_accuracy: 0.7625\n",
      "Epoch 30/100\n",
      "5/5 [==============================] - 0s 6ms/step - loss: 0.4971 - binary_accuracy: 0.7906 - val_loss: 0.5076 - val_binary_accuracy: 0.7688\n",
      "Epoch 31/100\n",
      "5/5 [==============================] - 0s 10ms/step - loss: 0.4970 - binary_accuracy: 0.7953 - val_loss: 0.5040 - val_binary_accuracy: 0.7625\n",
      "Epoch 32/100\n",
      "5/5 [==============================] - 0s 6ms/step - loss: 0.4927 - binary_accuracy: 0.7875 - val_loss: 0.5010 - val_binary_accuracy: 0.7688\n",
      "Epoch 33/100\n",
      "5/5 [==============================] - 0s 6ms/step - loss: 0.4825 - binary_accuracy: 0.8031 - val_loss: 0.4989 - val_binary_accuracy: 0.7688\n",
      "Epoch 34/100\n",
      "5/5 [==============================] - 0s 6ms/step - loss: 0.4810 - binary_accuracy: 0.8000 - val_loss: 0.4962 - val_binary_accuracy: 0.7625\n",
      "Epoch 35/100\n",
      "5/5 [==============================] - 0s 11ms/step - loss: 0.4779 - binary_accuracy: 0.8062 - val_loss: 0.4938 - val_binary_accuracy: 0.7688\n",
      "Epoch 36/100\n",
      "5/5 [==============================] - 0s 6ms/step - loss: 0.4748 - binary_accuracy: 0.8031 - val_loss: 0.4924 - val_binary_accuracy: 0.7750\n",
      "Epoch 37/100\n",
      "5/5 [==============================] - 0s 5ms/step - loss: 0.4726 - binary_accuracy: 0.8125 - val_loss: 0.4904 - val_binary_accuracy: 0.7750\n",
      "Epoch 38/100\n",
      "5/5 [==============================] - 0s 5ms/step - loss: 0.4633 - binary_accuracy: 0.8156 - val_loss: 0.4872 - val_binary_accuracy: 0.7625\n",
      "Epoch 39/100\n",
      "5/5 [==============================] - 0s 6ms/step - loss: 0.4694 - binary_accuracy: 0.7969 - val_loss: 0.4852 - val_binary_accuracy: 0.7688\n",
      "Epoch 40/100\n",
      "5/5 [==============================] - 0s 8ms/step - loss: 0.4633 - binary_accuracy: 0.8141 - val_loss: 0.4834 - val_binary_accuracy: 0.7750\n",
      "Epoch 41/100\n",
      "5/5 [==============================] - 0s 7ms/step - loss: 0.4644 - binary_accuracy: 0.8109 - val_loss: 0.4820 - val_binary_accuracy: 0.7750\n",
      "Epoch 42/100\n",
      "5/5 [==============================] - 0s 6ms/step - loss: 0.4679 - binary_accuracy: 0.8062 - val_loss: 0.4801 - val_binary_accuracy: 0.7750\n",
      "Epoch 43/100\n",
      "5/5 [==============================] - 0s 6ms/step - loss: 0.4605 - binary_accuracy: 0.8062 - val_loss: 0.4781 - val_binary_accuracy: 0.7750\n",
      "Epoch 44/100\n",
      "5/5 [==============================] - 0s 6ms/step - loss: 0.4516 - binary_accuracy: 0.8188 - val_loss: 0.4764 - val_binary_accuracy: 0.7750\n",
      "Epoch 45/100\n",
      "5/5 [==============================] - 0s 6ms/step - loss: 0.4565 - binary_accuracy: 0.8109 - val_loss: 0.4748 - val_binary_accuracy: 0.7688\n",
      "Epoch 46/100\n",
      "5/5 [==============================] - 0s 9ms/step - loss: 0.4544 - binary_accuracy: 0.8234 - val_loss: 0.4734 - val_binary_accuracy: 0.7750\n",
      "Epoch 47/100\n",
      "5/5 [==============================] - 0s 6ms/step - loss: 0.4476 - binary_accuracy: 0.8156 - val_loss: 0.4721 - val_binary_accuracy: 0.7750\n",
      "Epoch 48/100\n",
      "5/5 [==============================] - 0s 5ms/step - loss: 0.4485 - binary_accuracy: 0.8125 - val_loss: 0.4702 - val_binary_accuracy: 0.7750\n",
      "Epoch 49/100\n",
      "5/5 [==============================] - 0s 5ms/step - loss: 0.4507 - binary_accuracy: 0.8125 - val_loss: 0.4693 - val_binary_accuracy: 0.7750\n",
      "Epoch 50/100\n",
      "5/5 [==============================] - 0s 5ms/step - loss: 0.4469 - binary_accuracy: 0.8094 - val_loss: 0.4685 - val_binary_accuracy: 0.7750\n",
      "Epoch 51/100\n",
      "5/5 [==============================] - 0s 6ms/step - loss: 0.4411 - binary_accuracy: 0.8234 - val_loss: 0.4670 - val_binary_accuracy: 0.7750\n",
      "Epoch 52/100\n",
      "5/5 [==============================] - 0s 7ms/step - loss: 0.4426 - binary_accuracy: 0.8125 - val_loss: 0.4656 - val_binary_accuracy: 0.7750\n",
      "Epoch 53/100\n",
      "5/5 [==============================] - 0s 6ms/step - loss: 0.4440 - binary_accuracy: 0.8125 - val_loss: 0.4643 - val_binary_accuracy: 0.7812\n",
      "Epoch 54/100\n",
      "5/5 [==============================] - 0s 7ms/step - loss: 0.4447 - binary_accuracy: 0.8109 - val_loss: 0.4628 - val_binary_accuracy: 0.7750\n",
      "Epoch 55/100\n",
      "5/5 [==============================] - 0s 6ms/step - loss: 0.4369 - binary_accuracy: 0.8188 - val_loss: 0.4618 - val_binary_accuracy: 0.7750\n",
      "Epoch 56/100\n",
      "5/5 [==============================] - 0s 5ms/step - loss: 0.4354 - binary_accuracy: 0.8141 - val_loss: 0.4613 - val_binary_accuracy: 0.7875\n",
      "Epoch 57/100\n",
      "5/5 [==============================] - 0s 6ms/step - loss: 0.4361 - binary_accuracy: 0.8219 - val_loss: 0.4605 - val_binary_accuracy: 0.7937\n",
      "Epoch 58/100\n",
      "5/5 [==============================] - 0s 5ms/step - loss: 0.4302 - binary_accuracy: 0.8234 - val_loss: 0.4592 - val_binary_accuracy: 0.7937\n",
      "Epoch 59/100\n",
      "5/5 [==============================] - 0s 6ms/step - loss: 0.4253 - binary_accuracy: 0.8172 - val_loss: 0.4578 - val_binary_accuracy: 0.7812\n",
      "Epoch 60/100\n",
      "5/5 [==============================] - 0s 6ms/step - loss: 0.4282 - binary_accuracy: 0.8219 - val_loss: 0.4564 - val_binary_accuracy: 0.7750\n",
      "Epoch 61/100\n",
      "5/5 [==============================] - 0s 7ms/step - loss: 0.4272 - binary_accuracy: 0.8172 - val_loss: 0.4558 - val_binary_accuracy: 0.7875\n",
      "Epoch 62/100\n",
      "5/5 [==============================] - 0s 6ms/step - loss: 0.4270 - binary_accuracy: 0.8297 - val_loss: 0.4547 - val_binary_accuracy: 0.7875\n",
      "Epoch 63/100\n",
      "5/5 [==============================] - 0s 5ms/step - loss: 0.4261 - binary_accuracy: 0.8016 - val_loss: 0.4545 - val_binary_accuracy: 0.7937\n",
      "Epoch 64/100\n",
      "5/5 [==============================] - 0s 6ms/step - loss: 0.4253 - binary_accuracy: 0.8188 - val_loss: 0.4531 - val_binary_accuracy: 0.7812\n",
      "Epoch 65/100\n",
      "5/5 [==============================] - 0s 7ms/step - loss: 0.4215 - binary_accuracy: 0.8203 - val_loss: 0.4520 - val_binary_accuracy: 0.7875\n",
      "Epoch 66/100\n",
      "5/5 [==============================] - 0s 10ms/step - loss: 0.4202 - binary_accuracy: 0.8219 - val_loss: 0.4510 - val_binary_accuracy: 0.7750\n",
      "Epoch 67/100\n",
      "5/5 [==============================] - 0s 5ms/step - loss: 0.4174 - binary_accuracy: 0.8109 - val_loss: 0.4503 - val_binary_accuracy: 0.7937\n",
      "Epoch 68/100\n",
      "5/5 [==============================] - 0s 6ms/step - loss: 0.4118 - binary_accuracy: 0.8281 - val_loss: 0.4502 - val_binary_accuracy: 0.7937\n",
      "Epoch 69/100\n",
      "5/5 [==============================] - 0s 5ms/step - loss: 0.4200 - binary_accuracy: 0.8109 - val_loss: 0.4490 - val_binary_accuracy: 0.7812\n",
      "Epoch 70/100\n",
      "5/5 [==============================] - 0s 5ms/step - loss: 0.4167 - binary_accuracy: 0.8234 - val_loss: 0.4479 - val_binary_accuracy: 0.7937\n",
      "Epoch 71/100\n",
      "5/5 [==============================] - 0s 6ms/step - loss: 0.4142 - binary_accuracy: 0.8250 - val_loss: 0.4472 - val_binary_accuracy: 0.7937\n",
      "Epoch 72/100\n",
      "5/5 [==============================] - 0s 5ms/step - loss: 0.4104 - binary_accuracy: 0.8281 - val_loss: 0.4464 - val_binary_accuracy: 0.7937\n",
      "Epoch 73/100\n",
      "5/5 [==============================] - 0s 11ms/step - loss: 0.4141 - binary_accuracy: 0.8297 - val_loss: 0.4462 - val_binary_accuracy: 0.7812\n",
      "Epoch 74/100\n",
      "5/5 [==============================] - 0s 5ms/step - loss: 0.4119 - binary_accuracy: 0.8250 - val_loss: 0.4455 - val_binary_accuracy: 0.7812\n",
      "Epoch 75/100\n",
      "5/5 [==============================] - 0s 7ms/step - loss: 0.4156 - binary_accuracy: 0.8172 - val_loss: 0.4449 - val_binary_accuracy: 0.7812\n",
      "Epoch 76/100\n",
      "5/5 [==============================] - 0s 5ms/step - loss: 0.4108 - binary_accuracy: 0.8219 - val_loss: 0.4444 - val_binary_accuracy: 0.7875\n",
      "Epoch 77/100\n",
      "5/5 [==============================] - 0s 6ms/step - loss: 0.4094 - binary_accuracy: 0.8266 - val_loss: 0.4441 - val_binary_accuracy: 0.7937\n",
      "Epoch 78/100\n",
      "5/5 [==============================] - 0s 5ms/step - loss: 0.4071 - binary_accuracy: 0.8375 - val_loss: 0.4427 - val_binary_accuracy: 0.7937\n",
      "Epoch 79/100\n",
      "5/5 [==============================] - 0s 6ms/step - loss: 0.4009 - binary_accuracy: 0.8219 - val_loss: 0.4420 - val_binary_accuracy: 0.7937\n",
      "Epoch 80/100\n",
      "5/5 [==============================] - 0s 5ms/step - loss: 0.4084 - binary_accuracy: 0.8297 - val_loss: 0.4416 - val_binary_accuracy: 0.7875\n",
      "Epoch 81/100\n",
      "5/5 [==============================] - 0s 6ms/step - loss: 0.4013 - binary_accuracy: 0.8359 - val_loss: 0.4414 - val_binary_accuracy: 0.7875\n",
      "Epoch 82/100\n",
      "5/5 [==============================] - 0s 6ms/step - loss: 0.4021 - binary_accuracy: 0.8281 - val_loss: 0.4407 - val_binary_accuracy: 0.7937\n",
      "Epoch 83/100\n",
      "5/5 [==============================] - 0s 5ms/step - loss: 0.4006 - binary_accuracy: 0.8297 - val_loss: 0.4403 - val_binary_accuracy: 0.7875\n",
      "Epoch 84/100\n",
      "5/5 [==============================] - 0s 5ms/step - loss: 0.4022 - binary_accuracy: 0.8313 - val_loss: 0.4395 - val_binary_accuracy: 0.7937\n",
      "Epoch 85/100\n",
      "5/5 [==============================] - 0s 6ms/step - loss: 0.3997 - binary_accuracy: 0.8297 - val_loss: 0.4389 - val_binary_accuracy: 0.7937\n",
      "Epoch 86/100\n",
      "5/5 [==============================] - 0s 6ms/step - loss: 0.4037 - binary_accuracy: 0.8266 - val_loss: 0.4388 - val_binary_accuracy: 0.7937\n",
      "Epoch 87/100\n",
      "5/5 [==============================] - 0s 7ms/step - loss: 0.4028 - binary_accuracy: 0.8203 - val_loss: 0.4389 - val_binary_accuracy: 0.7937\n",
      "Epoch 88/100\n",
      "5/5 [==============================] - 0s 6ms/step - loss: 0.4016 - binary_accuracy: 0.8344 - val_loss: 0.4379 - val_binary_accuracy: 0.7875\n",
      "Epoch 89/100\n",
      "5/5 [==============================] - 0s 6ms/step - loss: 0.3976 - binary_accuracy: 0.8344 - val_loss: 0.4372 - val_binary_accuracy: 0.7937\n",
      "Epoch 90/100\n",
      "5/5 [==============================] - 0s 7ms/step - loss: 0.3988 - binary_accuracy: 0.8188 - val_loss: 0.4363 - val_binary_accuracy: 0.8000\n",
      "Epoch 91/100\n",
      "5/5 [==============================] - 0s 8ms/step - loss: 0.4005 - binary_accuracy: 0.8234 - val_loss: 0.4361 - val_binary_accuracy: 0.7937\n",
      "Epoch 92/100\n",
      "5/5 [==============================] - 0s 7ms/step - loss: 0.3916 - binary_accuracy: 0.8359 - val_loss: 0.4357 - val_binary_accuracy: 0.7937\n",
      "Epoch 93/100\n",
      "5/5 [==============================] - 0s 6ms/step - loss: 0.4007 - binary_accuracy: 0.8219 - val_loss: 0.4355 - val_binary_accuracy: 0.7937\n",
      "Epoch 94/100\n",
      "5/5 [==============================] - 0s 6ms/step - loss: 0.3909 - binary_accuracy: 0.8266 - val_loss: 0.4348 - val_binary_accuracy: 0.7937\n",
      "Epoch 95/100\n",
      "5/5 [==============================] - 0s 11ms/step - loss: 0.3890 - binary_accuracy: 0.8313 - val_loss: 0.4344 - val_binary_accuracy: 0.8000\n",
      "Epoch 96/100\n",
      "5/5 [==============================] - 0s 6ms/step - loss: 0.3899 - binary_accuracy: 0.8297 - val_loss: 0.4340 - val_binary_accuracy: 0.8000\n",
      "Epoch 97/100\n",
      "5/5 [==============================] - 0s 5ms/step - loss: 0.3943 - binary_accuracy: 0.8297 - val_loss: 0.4335 - val_binary_accuracy: 0.8000\n",
      "Epoch 98/100\n",
      "5/5 [==============================] - 0s 5ms/step - loss: 0.3955 - binary_accuracy: 0.8344 - val_loss: 0.4336 - val_binary_accuracy: 0.7937\n",
      "Epoch 99/100\n",
      "5/5 [==============================] - 0s 6ms/step - loss: 0.3886 - binary_accuracy: 0.8313 - val_loss: 0.4331 - val_binary_accuracy: 0.7937\n",
      "Epoch 100/100\n",
      "5/5 [==============================] - 0s 7ms/step - loss: 0.3880 - binary_accuracy: 0.8375 - val_loss: 0.4323 - val_binary_accuracy: 0.8000\n"
     ]
    }
   ],
   "source": [
    "history = lr_model.fit(\n",
    "    X_train,\n",
    "    Y_train,\n",
    "    epochs=100,\n",
    "    batch_size=128,\n",
    "    validation_split=0.2,\n",
    "    verbose=1\n",
    ")"
   ]
  },
  {
   "cell_type": "code",
   "execution_count": 249,
   "metadata": {},
   "outputs": [
    {
     "data": {
      "text/html": [
       "<div>\n",
       "<style scoped>\n",
       "    .dataframe tbody tr th:only-of-type {\n",
       "        vertical-align: middle;\n",
       "    }\n",
       "\n",
       "    .dataframe tbody tr th {\n",
       "        vertical-align: top;\n",
       "    }\n",
       "\n",
       "    .dataframe thead th {\n",
       "        text-align: right;\n",
       "    }\n",
       "</style>\n",
       "<table border=\"1\" class=\"dataframe\">\n",
       "  <thead>\n",
       "    <tr style=\"text-align: right;\">\n",
       "      <th></th>\n",
       "      <th>loss</th>\n",
       "      <th>binary_accuracy</th>\n",
       "      <th>val_loss</th>\n",
       "      <th>val_binary_accuracy</th>\n",
       "      <th>epoch</th>\n",
       "    </tr>\n",
       "  </thead>\n",
       "  <tbody>\n",
       "    <tr>\n",
       "      <th>95</th>\n",
       "      <td>0.389893</td>\n",
       "      <td>0.829687</td>\n",
       "      <td>0.433951</td>\n",
       "      <td>0.80000</td>\n",
       "      <td>95</td>\n",
       "    </tr>\n",
       "    <tr>\n",
       "      <th>96</th>\n",
       "      <td>0.394283</td>\n",
       "      <td>0.829687</td>\n",
       "      <td>0.433499</td>\n",
       "      <td>0.80000</td>\n",
       "      <td>96</td>\n",
       "    </tr>\n",
       "    <tr>\n",
       "      <th>97</th>\n",
       "      <td>0.395493</td>\n",
       "      <td>0.834375</td>\n",
       "      <td>0.433605</td>\n",
       "      <td>0.79375</td>\n",
       "      <td>97</td>\n",
       "    </tr>\n",
       "    <tr>\n",
       "      <th>98</th>\n",
       "      <td>0.388576</td>\n",
       "      <td>0.831250</td>\n",
       "      <td>0.433109</td>\n",
       "      <td>0.79375</td>\n",
       "      <td>98</td>\n",
       "    </tr>\n",
       "    <tr>\n",
       "      <th>99</th>\n",
       "      <td>0.388046</td>\n",
       "      <td>0.837500</td>\n",
       "      <td>0.432329</td>\n",
       "      <td>0.80000</td>\n",
       "      <td>99</td>\n",
       "    </tr>\n",
       "  </tbody>\n",
       "</table>\n",
       "</div>"
      ],
      "text/plain": [
       "        loss  binary_accuracy  val_loss  val_binary_accuracy  epoch\n",
       "95  0.389893         0.829687  0.433951              0.80000     95\n",
       "96  0.394283         0.829687  0.433499              0.80000     96\n",
       "97  0.395493         0.834375  0.433605              0.79375     97\n",
       "98  0.388576         0.831250  0.433109              0.79375     98\n",
       "99  0.388046         0.837500  0.432329              0.80000     99"
      ]
     },
     "execution_count": 249,
     "metadata": {},
     "output_type": "execute_result"
    }
   ],
   "source": [
    "history_df = pd.DataFrame(history.history)\n",
    "history_df['epoch'] = history.epoch\n",
    "history_df.tail()"
   ]
  },
  {
   "cell_type": "code",
   "execution_count": 250,
   "metadata": {},
   "outputs": [
    {
     "data": {
      "text/plain": [
       "<matplotlib.legend.Legend at 0x7f0d5cdc0ac8>"
      ]
     },
     "execution_count": 250,
     "metadata": {},
     "output_type": "execute_result"
    },
    {
     "data": {
      "image/png": "[encoded data removed]",
      "text/plain": [
       "<Figure size 432x288 with 1 Axes>"
      ]
     },
     "metadata": {
      "needs_background": "light"
     },
     "output_type": "display_data"
    }
   ],
   "source": [
    "plt.xlabel('epochs')\n",
    "plt.ylabel('loss')\n",
    "#plt.ylim([0, 100])\n",
    "plt.plot(history_df['epoch'], history_df['loss'], label='Training')\n",
    "plt.plot(history_df['epoch'], history_df['val_loss'], label='Validation', linestyle='dashed')\n",
    "plt.legend(loc='upper center', shadow=False)"
   ]
  },
  {
   "cell_type": "markdown",
   "metadata": {},
   "source": [
    "### Model Evaluation"
   ]
  },
  {
   "cell_type": "code",
   "execution_count": 251,
   "metadata": {},
   "outputs": [
    {
     "name": "stdout",
     "output_type": "stream",
     "text": [
      "7/7 [==============================] - 0s 984us/step - loss: 0.3980 - binary_accuracy: 0.8750\n"
     ]
    },
    {
     "data": {
      "text/plain": [
       "[0.3980494439601898, 0.875]"
      ]
     },
     "execution_count": 251,
     "metadata": {},
     "output_type": "execute_result"
    }
   ],
   "source": [
    "lr_model.evaluate(X_test, Y_test)"
   ]
  },
  {
   "cell_type": "markdown",
   "metadata": {},
   "source": [
    "### Inference"
   ]
  },
  {
   "cell_type": "code",
   "execution_count": 252,
   "metadata": {},
   "outputs": [
    {
     "data": {
      "text/plain": [
       "array([[ True],\n",
       "       [False],\n",
       "       [False],\n",
       "       [ True]])"
      ]
     },
     "execution_count": 252,
     "metadata": {},
     "output_type": "execute_result"
    }
   ],
   "source": [
    "\n",
    "sentences = [\"I'm happy to be here\", \"i got scared\", \"i'm sick\", \"today is a beautiful day\"]\n",
    "\n",
    "tokenized = tokenize(sentences)\n",
    "padded = pad_tokens(tokenized, max_len)\n",
    "attention_mask = get_attention_mask(padded)\n",
    "attention_mask = tf.convert_to_tensor(attention_mask, dtype=tf.int32)\n",
    "input_ids = tf.convert_to_tensor(padded, dtype=tf.int32)\n",
    "\n",
    "last_hidden_states = model(input_ids, attention_mask = attention_mask)\n",
    "\n",
    "features = last_hidden_states[0][:,0,:].numpy()\n",
    "\n",
    "lr_model.predict(features) > .5"
   ]
  }
 ],
 "metadata": {
  "kernelspec": {
   "display_name": "Python 3",
   "language": "python",
   "name": "python3"
  },
  "language_info": {
   "codemirror_mode": {
    "name": "ipython",
    "version": 3
   },
   "file_extension": ".py",
   "mimetype": "text/x-python",
   "name": "python",
   "nbconvert_exporter": "python",
   "pygments_lexer": "ipython3",
   "version": "3.7.3"
  },
  "orig_nbformat": 4,
  "vscode": {
   "interpreter": {
    "hash": "1c48d435e47ba5d5a932a530ddeb248c9baa0081132f1819dcaeedbf0fcd2e46"
   }
  }
 },
 "nbformat": 4,
 "nbformat_minor": 2
}
