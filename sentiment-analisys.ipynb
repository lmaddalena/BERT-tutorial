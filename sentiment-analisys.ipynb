{
 "cells": [
  {
   "cell_type": "markdown",
   "metadata": {},
   "source": [
    "# Sentiment Analisys using BERT\n",
    "https://colab.research.google.com/github/jalammar/jalammar.github.io/blob/master/notebooks/bert/A_Visual_Notebook_to_Using_BERT_for_the_First_Time.ipynb  \n",
    "https://www.section.io/engineering-education/natural-language-processing-using-tensorflow-and-bert-model/#getting-started-with-bert  "
   ]
  },
  {
   "cell_type": "code",
   "execution_count": 38,
   "metadata": {},
   "outputs": [],
   "source": [
    "import numpy as np\n",
    "import pandas as pd\n",
    "import tensorflow as tf\n",
    "import transformers as ppb \n",
    "import matplotlib.pyplot as plt\n",
    "from tensorflow import keras\n"
   ]
  },
  {
   "cell_type": "markdown",
   "metadata": {},
   "source": [
    "### import the dataset"
   ]
  },
  {
   "cell_type": "code",
   "execution_count": 39,
   "metadata": {},
   "outputs": [],
   "source": [
    "df = pd.read_csv('https://github.com/clairett/pytorch-sentiment-classification/raw/master/data/SST2/train.tsv', delimiter='\\t', header=None)\n",
    "\n",
    "#df = df[:1000]"
   ]
  },
  {
   "cell_type": "code",
   "execution_count": 40,
   "metadata": {},
   "outputs": [
    {
     "data": {
      "text/plain": [
       "<bound method DataFrame.count of                                                       0  1\n",
       "0     a stirring , funny and finally transporting re...  1\n",
       "1     apparently reassembled from the cutting room f...  0\n",
       "2     they presume their audience wo n't sit still f...  0\n",
       "3     this is a visually stunning rumination on love...  1\n",
       "4     jonathan parker 's bartleby should have been t...  1\n",
       "...                                                 ... ..\n",
       "6915  painful , horrifying and oppressively tragic ,...  1\n",
       "6916  take care is nicely performed by a quintet of ...  0\n",
       "6917  the script covers huge , heavy topics in a bla...  0\n",
       "6918  a seriously bad film with seriously warped log...  0\n",
       "6919  a deliciously nonsensical comedy about a city ...  1\n",
       "\n",
       "[6920 rows x 2 columns]>"
      ]
     },
     "execution_count": 40,
     "metadata": {},
     "output_type": "execute_result"
    }
   ],
   "source": [
    "df.count"
   ]
  },
  {
   "cell_type": "code",
   "execution_count": 41,
   "metadata": {},
   "outputs": [
    {
     "data": {
      "image/png": "[encoded data removed]",
      "text/plain": [
       "<Figure size 432x288 with 1 Axes>"
      ]
     },
     "metadata": {
      "needs_background": "light"
     },
     "output_type": "display_data"
    }
   ],
   "source": [
    "labels = df[1]\n",
    "plt.hist(labels)\n",
    "plt.xlabel('sentiment')\n",
    "plt.ylabel('nb samples')\n",
    "plt.title('sentiment distribution')\n",
    "plt.xticks(np.arange(len(np.unique(labels))));"
   ]
  },
  {
   "cell_type": "markdown",
   "metadata": {},
   "source": [
    "### Loading the Pre-trained BERT model"
   ]
  },
  {
   "cell_type": "code",
   "execution_count": 42,
   "metadata": {},
   "outputs": [
    {
     "name": "stderr",
     "output_type": "stream",
     "text": [
      "Some layers from the model checkpoint at distilbert-base-uncased were not used when initializing TFDistilBertModel: ['vocab_projector', 'activation_13', 'vocab_layer_norm', 'vocab_transform']\n",
      "- This IS expected if you are initializing TFDistilBertModel from the checkpoint of a model trained on another task or with another architecture (e.g. initializing a BertForSequenceClassification model from a BertForPreTraining model).\n",
      "- This IS NOT expected if you are initializing TFDistilBertModel from the checkpoint of a model that you expect to be exactly identical (initializing a BertForSequenceClassification model from a BertForSequenceClassification model).\n",
      "All the layers of TFDistilBertModel were initialized from the model checkpoint at distilbert-base-uncased.\n",
      "If your task is similar to the task the model of the checkpoint was trained on, you can already use TFDistilBertModel for predictions without further training.\n"
     ]
    }
   ],
   "source": [
    "# For DistilBERT:\n",
    "model_class, tokenizer_class, pretrained_weights = (ppb.TFDistilBertModel, ppb.DistilBertTokenizer, 'distilbert-base-uncased')\n",
    "\n",
    "## Want BERT instead of distilBERT? Uncomment the following line:\n",
    "#model_class, tokenizer_class, pretrained_weights = (ppb.TFBertModel, ppb.BertTokenizer, 'bert-base-uncased')\n",
    "\n",
    "# Load pretrained model/tokenizer\n",
    "tokenizer = tokenizer_class.from_pretrained(pretrained_weights)\n",
    "model = model_class.from_pretrained(pretrained_weights)\n"
   ]
  },
  {
   "cell_type": "markdown",
   "metadata": {},
   "source": [
    "### Tokenization"
   ]
  },
  {
   "cell_type": "code",
   "execution_count": 43,
   "metadata": {},
   "outputs": [],
   "source": [
    "def tokenize(sentences):\n",
    "    tokenized = [tokenizer(sentence, add_special_tokens=True)['input_ids'] for sentence in sentences]\n",
    "    return tokenized\n"
   ]
  },
  {
   "cell_type": "code",
   "execution_count": 44,
   "metadata": {},
   "outputs": [],
   "source": [
    "tokenized = tokenize(df[0])"
   ]
  },
  {
   "cell_type": "code",
   "execution_count": 45,
   "metadata": {},
   "outputs": [
    {
     "name": "stdout",
     "output_type": "stream",
     "text": [
      "sentence:  a stirring , funny and finally transporting re imagining of beauty and the beast and 1930s horror films\n",
      "tokenized:  [101, 1037, 18385, 1010, 6057, 1998, 2633, 18276, 2128, 16603, 1997, 5053, 1998, 1996, 6841, 1998, 5687, 5469, 3152, 102]\n",
      "decoded:  [CLS] a stirring, funny and finally transporting re imagining of beauty and the beast and 1930s horror films [SEP]\n"
     ]
    }
   ],
   "source": [
    "print(\"sentence: \", df[0][0] )\n",
    "print(\"tokenized: \", tokenized[0])\n",
    "print(\"decoded: \", tokenizer.decode(tokenized[0]))\n"
   ]
  },
  {
   "cell_type": "markdown",
   "metadata": {},
   "source": [
    "### Padding"
   ]
  },
  {
   "cell_type": "code",
   "execution_count": 46,
   "metadata": {},
   "outputs": [],
   "source": [
    "def get_max_length(tokens):\n",
    "    max_len = 0\n",
    "    for i in tokens:\n",
    "        if len(i) > max_len:\n",
    "            max_len = len(i)\n",
    "    return max_len"
   ]
  },
  {
   "cell_type": "code",
   "execution_count": 47,
   "metadata": {},
   "outputs": [
    {
     "name": "stdout",
     "output_type": "stream",
     "text": [
      "Max sentence legth is  67\n"
     ]
    }
   ],
   "source": [
    "max_len = get_max_length(tokenized)\n",
    "print(\"Max sentence legth is \", max_len)"
   ]
  },
  {
   "cell_type": "code",
   "execution_count": 48,
   "metadata": {},
   "outputs": [],
   "source": [
    "def pad_tokens(tokens, max_len):\n",
    "    padded = np.array([i + [0]*(max_len-len(i)) for i in tokens])\n",
    "    return padded"
   ]
  },
  {
   "cell_type": "code",
   "execution_count": 49,
   "metadata": {},
   "outputs": [],
   "source": [
    "padded = pad_tokens(tokenized, max_len)"
   ]
  },
  {
   "cell_type": "code",
   "execution_count": 50,
   "metadata": {},
   "outputs": [
    {
     "name": "stdout",
     "output_type": "stream",
     "text": [
      "[  101  1037 18385  1010  6057  1998  2633 18276  2128 16603  1997  5053\n",
      "  1998  1996  6841  1998  5687  5469  3152   102     0     0     0     0\n",
      "     0     0     0     0     0     0     0     0     0     0     0     0\n",
      "     0     0     0     0     0     0     0     0     0     0     0     0\n",
      "     0     0     0     0     0     0     0     0     0     0     0     0\n",
      "     0     0     0     0     0     0     0]\n"
     ]
    }
   ],
   "source": [
    "print(padded[0])"
   ]
  },
  {
   "cell_type": "code",
   "execution_count": 51,
   "metadata": {},
   "outputs": [
    {
     "name": "stdout",
     "output_type": "stream",
     "text": [
      "shape of padded:  (6920, 67)\n"
     ]
    }
   ],
   "source": [
    "print(\"shape of padded: \", padded.shape)"
   ]
  },
  {
   "cell_type": "markdown",
   "metadata": {},
   "source": [
    "### Masking\n",
    "If we directly send padded to BERT, that would slightly confuse it. We need to create another variable to tell it to ignore (mask) the padding we've added when it's processing its input."
   ]
  },
  {
   "cell_type": "code",
   "execution_count": 52,
   "metadata": {},
   "outputs": [],
   "source": [
    "def get_attention_mask(tokens):\n",
    "    attention_mask = np.where(tokens != 0, 1, 0)    \n",
    "    return attention_mask"
   ]
  },
  {
   "cell_type": "code",
   "execution_count": 53,
   "metadata": {},
   "outputs": [
    {
     "name": "stdout",
     "output_type": "stream",
     "text": [
      "[1 1 1 1 1 1 1 1 1 1 1 1 1 1 1 1 1 1 1 1 0 0 0 0 0 0 0 0 0 0 0 0 0 0 0 0 0\n",
      " 0 0 0 0 0 0 0 0 0 0 0 0 0 0 0 0 0 0 0 0 0 0 0 0 0 0 0 0 0 0]\n"
     ]
    }
   ],
   "source": [
    "attention_mask = get_attention_mask(padded)\n",
    "print(attention_mask[0])"
   ]
  },
  {
   "cell_type": "markdown",
   "metadata": {},
   "source": [
    "### Create input tensors"
   ]
  },
  {
   "cell_type": "code",
   "execution_count": 54,
   "metadata": {},
   "outputs": [],
   "source": [
    "input_ids = tf.convert_to_tensor(padded, dtype=tf.int32)\n",
    "attention_mask = tf.convert_to_tensor(attention_mask, dtype=tf.int32)\n",
    "\n"
   ]
  },
  {
   "cell_type": "markdown",
   "metadata": {},
   "source": [
    "The model() function runs our sentences through BERT. The results of the processing will be returned into last_hidden_states."
   ]
  },
  {
   "cell_type": "code",
   "execution_count": 55,
   "metadata": {},
   "outputs": [
    {
     "name": "stdout",
     "output_type": "stream",
     "text": [
      "Extract features using batches for memory issue:\n",
      "Batch 1 [0:500]\n",
      "Batch 2 [500:1000]\n",
      "Batch 3 [1000:1500]\n",
      "Batch 4 [1500:2000]\n",
      "Batch 5 [2000:2500]\n",
      "Batch 6 [2500:3000]\n",
      "Batch 7 [3000:3500]\n",
      "Batch 8 [3500:4000]\n",
      "Batch 9 [4000:4500]\n",
      "Batch 10 [4500:5000]\n",
      "Batch 11 [5000:5500]\n",
      "Batch 12 [5500:6000]\n",
      "Batch 13 [6000:6500]\n",
      "Batch 14 [6500:6920]\n"
     ]
    }
   ],
   "source": [
    "batch_size = 500\n",
    "m = input_ids.shape[0]\n",
    "n = int(m / batch_size)\n",
    "\n",
    "hidden_units =  model.config.to_dict()['dim']\n",
    "features = np.zeros((m, hidden_units))\n",
    "\n",
    "print('Extract features using batches for memory issue:')\n",
    "\n",
    "for i in range(n):\n",
    "    j, k = i*batch_size, i*batch_size+batch_size\n",
    "    print(f'Batch {i+1} [{j}:{k}]')\n",
    "    batch_input = input_ids[j:k]\n",
    "    batch_attention_mask = attention_mask[j:k]\n",
    "    last_hidden_states = model(batch_input, attention_mask = batch_attention_mask)\n",
    "\n",
    "    #Let's slice only the part of the output that we need. That is the output corresponding the first token of each sentence. \n",
    "    # The way BERT does sentence classification, is that it adds a token called [CLS] (for classification) at the beginning of \n",
    "    # every sentence. The output corresponding to that token can be thought of as an embedding for the entire sentence.\n",
    "    features[j:k] = last_hidden_states[0][:,0,:].numpy()\n",
    "\n",
    "    ## if you use BERT instead of distilBERT model, use this\n",
    "    #features[j:k] = last_hidden_states[1].numpy() \n",
    "\n",
    "if(n*batch_size != m):\n",
    "    i = i + 1\n",
    "    j, k = i*batch_size, i*batch_size+(m-n*batch_size)\n",
    "    print(f'Batch {i+1} [{j}:{k}]')\n",
    "    batch_input = input_ids[j:k]\n",
    "    batch_attention_mask = attention_mask[j:k]\n",
    "    last_hidden_states = model(batch_input, attention_mask = batch_attention_mask)\n",
    "    features[j:k] = last_hidden_states[0][:,0,:].numpy()\n",
    "\n",
    "#print(\"last hidden tensor shape (n_samples, max_len, hidden_units): \"), last_hidden_states[0].shape"
   ]
  },
  {
   "cell_type": "code",
   "execution_count": 56,
   "metadata": {},
   "outputs": [
    {
     "data": {
      "text/plain": [
       "(6920, 768)"
      ]
     },
     "execution_count": 56,
     "metadata": {},
     "output_type": "execute_result"
    }
   ],
   "source": [
    "features.shape"
   ]
  },
  {
   "cell_type": "markdown",
   "metadata": {},
   "source": [
    "### Labels\n"
   ]
  },
  {
   "cell_type": "code",
   "execution_count": 57,
   "metadata": {},
   "outputs": [],
   "source": [
    "lables = df[1].to_numpy()"
   ]
  },
  {
   "cell_type": "markdown",
   "metadata": {},
   "source": [
    "### Train/Test Split"
   ]
  },
  {
   "cell_type": "code",
   "execution_count": 58,
   "metadata": {},
   "outputs": [
    {
     "name": "stdout",
     "output_type": "stream",
     "text": [
      "shapes of training data:  (5536, 768) (5536,)\n",
      "shapes of test data:  (1384, 768) (1384,)\n"
     ]
    }
   ],
   "source": [
    "# 80% train, 20% test\n",
    "split_size = int(features.shape[0] * .8)    \n",
    "X_train = features[:split_size,:]\n",
    "Y_train = lables[:split_size]\n",
    "X_test = features[split_size:,:]\n",
    "Y_test = lables[split_size:]\n",
    "\n",
    "print(\"shapes of training data: \", X_train.shape, Y_train.shape)\n",
    "print(\"shapes of test data: \", X_test.shape, Y_test.shape)"
   ]
  },
  {
   "cell_type": "markdown",
   "metadata": {},
   "source": [
    "### Create the Logistic Regression Model"
   ]
  },
  {
   "cell_type": "code",
   "execution_count": 59,
   "metadata": {},
   "outputs": [],
   "source": [
    "def create_model(input_shape, classes):\n",
    "    inputs = keras.Input(shape=input_shape, name='input')\n",
    "    #h1 = keras.layers.Dense(1024, activation='relu', name='h1')(inputs)    \n",
    "    #h2 = keras.layers.Dense(512, activation='relu', name='h2')(h1)\n",
    "    #h3 = keras.layers.Dense(32, activation='relu', name='h3')(h2)\n",
    "    d1 = keras.layers.Dropout(0.1, name='d1')(inputs)\n",
    "    outputs = keras.layers.Dense(classes, activation='sigmoid', name='output')(d1)\n",
    "    model = tf.keras.Model(inputs=inputs, outputs=outputs)\n",
    "\n",
    "    optimizer = tf.keras.optimizers.Adam()\n",
    "\n",
    "    model.compile(\n",
    "        loss='binary_crossentropy', \n",
    "        optimizer=optimizer, \n",
    "        metrics=['binary_accuracy']\n",
    "    )\n",
    "\n",
    "    return model"
   ]
  },
  {
   "cell_type": "code",
   "execution_count": 60,
   "metadata": {},
   "outputs": [
    {
     "name": "stdout",
     "output_type": "stream",
     "text": [
      "Model: \"model_1\"\n",
      "_________________________________________________________________\n",
      "Layer (type)                 Output Shape              Param #   \n",
      "=================================================================\n",
      "input (InputLayer)           [(None, 768)]             0         \n",
      "_________________________________________________________________\n",
      "d1 (Dropout)                 (None, 768)               0         \n",
      "_________________________________________________________________\n",
      "output (Dense)               (None, 1)                 769       \n",
      "=================================================================\n",
      "Total params: 769\n",
      "Trainable params: 769\n",
      "Non-trainable params: 0\n",
      "_________________________________________________________________\n"
     ]
    }
   ],
   "source": [
    "lr_model = create_model(X_train.shape[1], 1)\n",
    "lr_model.summary()\n"
   ]
  },
  {
   "cell_type": "code",
   "execution_count": 61,
   "metadata": {},
   "outputs": [
    {
     "name": "stdout",
     "output_type": "stream",
     "text": [
      "Epoch 1/100\n",
      "35/35 [==============================] - 0s 4ms/step - loss: 0.6554 - binary_accuracy: 0.6192 - val_loss: 0.6105 - val_binary_accuracy: 0.7265\n",
      "Epoch 2/100\n",
      "35/35 [==============================] - 0s 3ms/step - loss: 0.5803 - binary_accuracy: 0.7423 - val_loss: 0.5555 - val_binary_accuracy: 0.7500\n",
      "Epoch 3/100\n",
      "35/35 [==============================] - 0s 2ms/step - loss: 0.5307 - binary_accuracy: 0.7764 - val_loss: 0.5205 - val_binary_accuracy: 0.7653\n",
      "Epoch 4/100\n",
      "35/35 [==============================] - 0s 2ms/step - loss: 0.4993 - binary_accuracy: 0.7949 - val_loss: 0.4943 - val_binary_accuracy: 0.7807\n",
      "Epoch 5/100\n",
      "35/35 [==============================] - 0s 2ms/step - loss: 0.4751 - binary_accuracy: 0.8047 - val_loss: 0.4753 - val_binary_accuracy: 0.7888\n",
      "Epoch 6/100\n",
      "35/35 [==============================] - 0s 2ms/step - loss: 0.4577 - binary_accuracy: 0.8096 - val_loss: 0.4610 - val_binary_accuracy: 0.7942\n",
      "Epoch 7/100\n",
      "35/35 [==============================] - 0s 2ms/step - loss: 0.4443 - binary_accuracy: 0.8216 - val_loss: 0.4496 - val_binary_accuracy: 0.7978\n",
      "Epoch 8/100\n",
      "35/35 [==============================] - 0s 3ms/step - loss: 0.4347 - binary_accuracy: 0.8168 - val_loss: 0.4402 - val_binary_accuracy: 0.8078\n",
      "Epoch 9/100\n",
      "35/35 [==============================] - 0s 2ms/step - loss: 0.4252 - binary_accuracy: 0.8211 - val_loss: 0.4319 - val_binary_accuracy: 0.8060\n",
      "Epoch 10/100\n",
      "35/35 [==============================] - 0s 2ms/step - loss: 0.4194 - binary_accuracy: 0.8281 - val_loss: 0.4269 - val_binary_accuracy: 0.8042\n",
      "Epoch 11/100\n",
      "35/35 [==============================] - 0s 2ms/step - loss: 0.4120 - binary_accuracy: 0.8290 - val_loss: 0.4205 - val_binary_accuracy: 0.8177\n",
      "Epoch 12/100\n",
      "35/35 [==============================] - 0s 2ms/step - loss: 0.4064 - binary_accuracy: 0.8302 - val_loss: 0.4154 - val_binary_accuracy: 0.8150\n",
      "Epoch 13/100\n",
      "35/35 [==============================] - 0s 2ms/step - loss: 0.4023 - binary_accuracy: 0.8281 - val_loss: 0.4129 - val_binary_accuracy: 0.8105\n",
      "Epoch 14/100\n",
      "35/35 [==============================] - 0s 2ms/step - loss: 0.3975 - binary_accuracy: 0.8304 - val_loss: 0.4077 - val_binary_accuracy: 0.8159\n",
      "Epoch 15/100\n",
      "35/35 [==============================] - 0s 2ms/step - loss: 0.3921 - binary_accuracy: 0.8349 - val_loss: 0.4052 - val_binary_accuracy: 0.8204\n",
      "Epoch 16/100\n",
      "35/35 [==============================] - 0s 2ms/step - loss: 0.3904 - binary_accuracy: 0.8327 - val_loss: 0.4019 - val_binary_accuracy: 0.8204\n",
      "Epoch 17/100\n",
      "35/35 [==============================] - 0s 2ms/step - loss: 0.3861 - binary_accuracy: 0.8363 - val_loss: 0.4026 - val_binary_accuracy: 0.8231\n",
      "Epoch 18/100\n",
      "35/35 [==============================] - 0s 3ms/step - loss: 0.3836 - binary_accuracy: 0.8385 - val_loss: 0.3988 - val_binary_accuracy: 0.8204\n",
      "Epoch 19/100\n",
      "35/35 [==============================] - 0s 2ms/step - loss: 0.3826 - binary_accuracy: 0.8351 - val_loss: 0.3947 - val_binary_accuracy: 0.8195\n",
      "Epoch 20/100\n",
      "35/35 [==============================] - 0s 2ms/step - loss: 0.3779 - binary_accuracy: 0.8399 - val_loss: 0.3928 - val_binary_accuracy: 0.8195\n",
      "Epoch 21/100\n",
      "35/35 [==============================] - 0s 2ms/step - loss: 0.3777 - binary_accuracy: 0.8367 - val_loss: 0.3917 - val_binary_accuracy: 0.8204\n",
      "Epoch 22/100\n",
      "35/35 [==============================] - 0s 2ms/step - loss: 0.3736 - binary_accuracy: 0.8399 - val_loss: 0.3896 - val_binary_accuracy: 0.8222\n",
      "Epoch 23/100\n",
      "35/35 [==============================] - 0s 2ms/step - loss: 0.3730 - binary_accuracy: 0.8363 - val_loss: 0.3894 - val_binary_accuracy: 0.8258\n",
      "Epoch 24/100\n",
      "35/35 [==============================] - 0s 2ms/step - loss: 0.3727 - binary_accuracy: 0.8363 - val_loss: 0.3874 - val_binary_accuracy: 0.8240\n",
      "Epoch 25/100\n",
      "35/35 [==============================] - 0s 2ms/step - loss: 0.3716 - binary_accuracy: 0.8406 - val_loss: 0.3864 - val_binary_accuracy: 0.8294\n",
      "Epoch 26/100\n",
      "35/35 [==============================] - 0s 3ms/step - loss: 0.3660 - binary_accuracy: 0.8433 - val_loss: 0.3848 - val_binary_accuracy: 0.8240\n",
      "Epoch 27/100\n",
      "35/35 [==============================] - 0s 3ms/step - loss: 0.3671 - binary_accuracy: 0.8419 - val_loss: 0.3839 - val_binary_accuracy: 0.8267\n",
      "Epoch 28/100\n",
      "35/35 [==============================] - 0s 2ms/step - loss: 0.3664 - binary_accuracy: 0.8421 - val_loss: 0.3838 - val_binary_accuracy: 0.8330\n",
      "Epoch 29/100\n",
      "35/35 [==============================] - 0s 2ms/step - loss: 0.3635 - binary_accuracy: 0.8449 - val_loss: 0.3818 - val_binary_accuracy: 0.8285\n",
      "Epoch 30/100\n",
      "35/35 [==============================] - 0s 2ms/step - loss: 0.3614 - binary_accuracy: 0.8449 - val_loss: 0.3810 - val_binary_accuracy: 0.8285\n",
      "Epoch 31/100\n",
      "35/35 [==============================] - 0s 2ms/step - loss: 0.3593 - binary_accuracy: 0.8464 - val_loss: 0.3814 - val_binary_accuracy: 0.8339\n",
      "Epoch 32/100\n",
      "35/35 [==============================] - 0s 2ms/step - loss: 0.3587 - binary_accuracy: 0.8449 - val_loss: 0.3795 - val_binary_accuracy: 0.8267\n",
      "Epoch 33/100\n",
      "35/35 [==============================] - 0s 2ms/step - loss: 0.3599 - binary_accuracy: 0.8410 - val_loss: 0.3789 - val_binary_accuracy: 0.8285\n",
      "Epoch 34/100\n",
      "35/35 [==============================] - 0s 2ms/step - loss: 0.3574 - binary_accuracy: 0.8464 - val_loss: 0.3782 - val_binary_accuracy: 0.8276\n",
      "Epoch 35/100\n",
      "35/35 [==============================] - 0s 2ms/step - loss: 0.3556 - binary_accuracy: 0.8512 - val_loss: 0.3781 - val_binary_accuracy: 0.8285\n",
      "Epoch 36/100\n",
      "35/35 [==============================] - 0s 2ms/step - loss: 0.3594 - binary_accuracy: 0.8469 - val_loss: 0.3766 - val_binary_accuracy: 0.8321\n",
      "Epoch 37/100\n",
      "35/35 [==============================] - 0s 2ms/step - loss: 0.3519 - binary_accuracy: 0.8480 - val_loss: 0.3763 - val_binary_accuracy: 0.8294\n",
      "Epoch 38/100\n",
      "35/35 [==============================] - 0s 2ms/step - loss: 0.3553 - binary_accuracy: 0.8471 - val_loss: 0.3762 - val_binary_accuracy: 0.8303\n",
      "Epoch 39/100\n",
      "35/35 [==============================] - 0s 2ms/step - loss: 0.3533 - binary_accuracy: 0.8505 - val_loss: 0.3757 - val_binary_accuracy: 0.8312\n",
      "Epoch 40/100\n",
      "35/35 [==============================] - 0s 2ms/step - loss: 0.3541 - binary_accuracy: 0.8525 - val_loss: 0.3750 - val_binary_accuracy: 0.8312\n",
      "Epoch 41/100\n",
      "35/35 [==============================] - 0s 2ms/step - loss: 0.3513 - binary_accuracy: 0.8476 - val_loss: 0.3758 - val_binary_accuracy: 0.8303\n",
      "Epoch 42/100\n",
      "35/35 [==============================] - 0s 2ms/step - loss: 0.3531 - binary_accuracy: 0.8505 - val_loss: 0.3747 - val_binary_accuracy: 0.8276\n",
      "Epoch 43/100\n",
      "35/35 [==============================] - 0s 2ms/step - loss: 0.3504 - binary_accuracy: 0.8494 - val_loss: 0.3744 - val_binary_accuracy: 0.8312\n",
      "Epoch 44/100\n",
      "35/35 [==============================] - 0s 2ms/step - loss: 0.3511 - binary_accuracy: 0.8489 - val_loss: 0.3735 - val_binary_accuracy: 0.8330\n",
      "Epoch 45/100\n",
      "35/35 [==============================] - 0s 2ms/step - loss: 0.3480 - binary_accuracy: 0.8491 - val_loss: 0.3732 - val_binary_accuracy: 0.8321\n",
      "Epoch 46/100\n",
      "35/35 [==============================] - 0s 3ms/step - loss: 0.3464 - binary_accuracy: 0.8509 - val_loss: 0.3728 - val_binary_accuracy: 0.8330\n",
      "Epoch 47/100\n",
      "35/35 [==============================] - 0s 3ms/step - loss: 0.3458 - binary_accuracy: 0.8464 - val_loss: 0.3743 - val_binary_accuracy: 0.8330\n",
      "Epoch 48/100\n",
      "35/35 [==============================] - 0s 2ms/step - loss: 0.3446 - binary_accuracy: 0.8530 - val_loss: 0.3723 - val_binary_accuracy: 0.8330\n",
      "Epoch 49/100\n",
      "35/35 [==============================] - 0s 2ms/step - loss: 0.3448 - binary_accuracy: 0.8509 - val_loss: 0.3729 - val_binary_accuracy: 0.8312\n",
      "Epoch 50/100\n",
      "35/35 [==============================] - 0s 3ms/step - loss: 0.3434 - binary_accuracy: 0.8507 - val_loss: 0.3717 - val_binary_accuracy: 0.8321\n",
      "Epoch 51/100\n",
      "35/35 [==============================] - 0s 2ms/step - loss: 0.3469 - binary_accuracy: 0.8476 - val_loss: 0.3710 - val_binary_accuracy: 0.8357\n",
      "Epoch 52/100\n",
      "35/35 [==============================] - 0s 2ms/step - loss: 0.3471 - binary_accuracy: 0.8482 - val_loss: 0.3711 - val_binary_accuracy: 0.8348\n",
      "Epoch 53/100\n",
      "35/35 [==============================] - 0s 2ms/step - loss: 0.3452 - binary_accuracy: 0.8485 - val_loss: 0.3712 - val_binary_accuracy: 0.8321\n",
      "Epoch 54/100\n",
      "35/35 [==============================] - 0s 2ms/step - loss: 0.3401 - binary_accuracy: 0.8548 - val_loss: 0.3712 - val_binary_accuracy: 0.8339\n",
      "Epoch 55/100\n",
      "35/35 [==============================] - 0s 2ms/step - loss: 0.3437 - binary_accuracy: 0.8496 - val_loss: 0.3715 - val_binary_accuracy: 0.8330\n",
      "Epoch 56/100\n",
      "35/35 [==============================] - 0s 2ms/step - loss: 0.3431 - binary_accuracy: 0.8451 - val_loss: 0.3708 - val_binary_accuracy: 0.8321\n",
      "Epoch 57/100\n",
      "35/35 [==============================] - 0s 2ms/step - loss: 0.3452 - binary_accuracy: 0.8521 - val_loss: 0.3708 - val_binary_accuracy: 0.8321\n",
      "Epoch 58/100\n",
      "35/35 [==============================] - 0s 2ms/step - loss: 0.3450 - binary_accuracy: 0.8498 - val_loss: 0.3739 - val_binary_accuracy: 0.8394\n",
      "Epoch 59/100\n",
      "35/35 [==============================] - 0s 2ms/step - loss: 0.3442 - binary_accuracy: 0.8485 - val_loss: 0.3719 - val_binary_accuracy: 0.8357\n",
      "Epoch 60/100\n",
      "35/35 [==============================] - 0s 2ms/step - loss: 0.3432 - binary_accuracy: 0.8500 - val_loss: 0.3702 - val_binary_accuracy: 0.8330\n",
      "Epoch 61/100\n",
      "35/35 [==============================] - 0s 3ms/step - loss: 0.3393 - binary_accuracy: 0.8575 - val_loss: 0.3689 - val_binary_accuracy: 0.8330\n",
      "Epoch 62/100\n",
      "35/35 [==============================] - 0s 2ms/step - loss: 0.3389 - binary_accuracy: 0.8546 - val_loss: 0.3686 - val_binary_accuracy: 0.8348\n",
      "Epoch 63/100\n",
      "35/35 [==============================] - 0s 2ms/step - loss: 0.3403 - binary_accuracy: 0.8528 - val_loss: 0.3693 - val_binary_accuracy: 0.8339\n",
      "Epoch 64/100\n",
      "35/35 [==============================] - 0s 2ms/step - loss: 0.3375 - binary_accuracy: 0.8577 - val_loss: 0.3701 - val_binary_accuracy: 0.8330\n",
      "Epoch 65/100\n",
      "35/35 [==============================] - 0s 2ms/step - loss: 0.3372 - binary_accuracy: 0.8530 - val_loss: 0.3693 - val_binary_accuracy: 0.8312\n",
      "Epoch 66/100\n",
      "35/35 [==============================] - 0s 3ms/step - loss: 0.3377 - binary_accuracy: 0.8539 - val_loss: 0.3684 - val_binary_accuracy: 0.8339\n",
      "Epoch 67/100\n",
      "35/35 [==============================] - 0s 2ms/step - loss: 0.3408 - binary_accuracy: 0.8525 - val_loss: 0.3685 - val_binary_accuracy: 0.8357\n",
      "Epoch 68/100\n",
      "35/35 [==============================] - 0s 2ms/step - loss: 0.3383 - binary_accuracy: 0.8561 - val_loss: 0.3700 - val_binary_accuracy: 0.8348\n",
      "Epoch 69/100\n",
      "35/35 [==============================] - 0s 2ms/step - loss: 0.3392 - binary_accuracy: 0.8528 - val_loss: 0.3683 - val_binary_accuracy: 0.8357\n",
      "Epoch 70/100\n",
      "35/35 [==============================] - 0s 2ms/step - loss: 0.3403 - binary_accuracy: 0.8523 - val_loss: 0.3689 - val_binary_accuracy: 0.8330\n",
      "Epoch 71/100\n",
      "35/35 [==============================] - 0s 2ms/step - loss: 0.3374 - binary_accuracy: 0.8541 - val_loss: 0.3682 - val_binary_accuracy: 0.8366\n",
      "Epoch 72/100\n",
      "35/35 [==============================] - 0s 2ms/step - loss: 0.3375 - binary_accuracy: 0.8530 - val_loss: 0.3685 - val_binary_accuracy: 0.8348\n",
      "Epoch 73/100\n",
      "35/35 [==============================] - 0s 2ms/step - loss: 0.3363 - binary_accuracy: 0.8579 - val_loss: 0.3696 - val_binary_accuracy: 0.8285\n",
      "Epoch 74/100\n",
      "35/35 [==============================] - 0s 2ms/step - loss: 0.3360 - binary_accuracy: 0.8579 - val_loss: 0.3681 - val_binary_accuracy: 0.8357\n",
      "Epoch 75/100\n",
      "35/35 [==============================] - 0s 2ms/step - loss: 0.3344 - binary_accuracy: 0.8534 - val_loss: 0.3680 - val_binary_accuracy: 0.8348\n",
      "Epoch 76/100\n",
      "35/35 [==============================] - 0s 2ms/step - loss: 0.3379 - binary_accuracy: 0.8503 - val_loss: 0.3680 - val_binary_accuracy: 0.8357\n",
      "Epoch 77/100\n",
      "35/35 [==============================] - 0s 2ms/step - loss: 0.3372 - binary_accuracy: 0.8528 - val_loss: 0.3675 - val_binary_accuracy: 0.8357\n",
      "Epoch 78/100\n",
      "35/35 [==============================] - 0s 3ms/step - loss: 0.3335 - binary_accuracy: 0.8559 - val_loss: 0.3675 - val_binary_accuracy: 0.8357\n",
      "Epoch 79/100\n",
      "35/35 [==============================] - 0s 3ms/step - loss: 0.3367 - binary_accuracy: 0.8530 - val_loss: 0.3689 - val_binary_accuracy: 0.8321\n",
      "Epoch 80/100\n",
      "35/35 [==============================] - 0s 2ms/step - loss: 0.3299 - binary_accuracy: 0.8620 - val_loss: 0.3676 - val_binary_accuracy: 0.8339\n",
      "Epoch 81/100\n",
      "35/35 [==============================] - 0s 2ms/step - loss: 0.3313 - binary_accuracy: 0.8561 - val_loss: 0.3673 - val_binary_accuracy: 0.8339\n",
      "Epoch 82/100\n",
      "35/35 [==============================] - 0s 3ms/step - loss: 0.3369 - binary_accuracy: 0.8550 - val_loss: 0.3670 - val_binary_accuracy: 0.8348\n",
      "Epoch 83/100\n",
      "35/35 [==============================] - 0s 3ms/step - loss: 0.3352 - binary_accuracy: 0.8525 - val_loss: 0.3670 - val_binary_accuracy: 0.8330\n",
      "Epoch 84/100\n",
      "35/35 [==============================] - 0s 2ms/step - loss: 0.3297 - binary_accuracy: 0.8579 - val_loss: 0.3674 - val_binary_accuracy: 0.8366\n",
      "Epoch 85/100\n",
      "35/35 [==============================] - 0s 2ms/step - loss: 0.3343 - binary_accuracy: 0.8555 - val_loss: 0.3676 - val_binary_accuracy: 0.8366\n",
      "Epoch 86/100\n",
      "35/35 [==============================] - 0s 2ms/step - loss: 0.3337 - binary_accuracy: 0.8530 - val_loss: 0.3676 - val_binary_accuracy: 0.8384\n",
      "Epoch 87/100\n",
      "35/35 [==============================] - 0s 2ms/step - loss: 0.3322 - binary_accuracy: 0.8552 - val_loss: 0.3668 - val_binary_accuracy: 0.8348\n",
      "Epoch 88/100\n",
      "35/35 [==============================] - 0s 3ms/step - loss: 0.3315 - binary_accuracy: 0.8541 - val_loss: 0.3673 - val_binary_accuracy: 0.8394\n",
      "Epoch 89/100\n",
      "35/35 [==============================] - 0s 2ms/step - loss: 0.3334 - binary_accuracy: 0.8568 - val_loss: 0.3674 - val_binary_accuracy: 0.8394\n",
      "Epoch 90/100\n",
      "35/35 [==============================] - 0s 2ms/step - loss: 0.3310 - binary_accuracy: 0.8577 - val_loss: 0.3670 - val_binary_accuracy: 0.8357\n",
      "Epoch 91/100\n",
      "35/35 [==============================] - 0s 2ms/step - loss: 0.3314 - binary_accuracy: 0.8561 - val_loss: 0.3676 - val_binary_accuracy: 0.8394\n",
      "Epoch 92/100\n",
      "35/35 [==============================] - 0s 2ms/step - loss: 0.3269 - binary_accuracy: 0.8579 - val_loss: 0.3675 - val_binary_accuracy: 0.8330\n",
      "Epoch 93/100\n",
      "35/35 [==============================] - 0s 2ms/step - loss: 0.3311 - binary_accuracy: 0.8543 - val_loss: 0.3668 - val_binary_accuracy: 0.8403\n",
      "Epoch 94/100\n",
      "35/35 [==============================] - 0s 2ms/step - loss: 0.3276 - binary_accuracy: 0.8575 - val_loss: 0.3665 - val_binary_accuracy: 0.8366\n",
      "Epoch 95/100\n",
      "35/35 [==============================] - 0s 2ms/step - loss: 0.3296 - binary_accuracy: 0.8591 - val_loss: 0.3664 - val_binary_accuracy: 0.8375\n",
      "Epoch 96/100\n",
      "35/35 [==============================] - 0s 2ms/step - loss: 0.3286 - binary_accuracy: 0.8541 - val_loss: 0.3679 - val_binary_accuracy: 0.8366\n",
      "Epoch 97/100\n",
      "35/35 [==============================] - 0s 2ms/step - loss: 0.3285 - binary_accuracy: 0.8589 - val_loss: 0.3689 - val_binary_accuracy: 0.8375\n",
      "Epoch 98/100\n",
      "35/35 [==============================] - 0s 2ms/step - loss: 0.3270 - binary_accuracy: 0.8566 - val_loss: 0.3665 - val_binary_accuracy: 0.8375\n",
      "Epoch 99/100\n",
      "35/35 [==============================] - 0s 2ms/step - loss: 0.3267 - binary_accuracy: 0.8622 - val_loss: 0.3674 - val_binary_accuracy: 0.8384\n",
      "Epoch 100/100\n",
      "35/35 [==============================] - 0s 2ms/step - loss: 0.3314 - binary_accuracy: 0.8559 - val_loss: 0.3656 - val_binary_accuracy: 0.8357\n"
     ]
    }
   ],
   "source": [
    "history = lr_model.fit(\n",
    "    X_train,\n",
    "    Y_train,\n",
    "    epochs=100,\n",
    "    batch_size=128,\n",
    "    validation_split=0.2,\n",
    "    verbose=1\n",
    ")"
   ]
  },
  {
   "cell_type": "code",
   "execution_count": 62,
   "metadata": {},
   "outputs": [
    {
     "data": {
      "text/html": [
       "<div>\n",
       "<style scoped>\n",
       "    .dataframe tbody tr th:only-of-type {\n",
       "        vertical-align: middle;\n",
       "    }\n",
       "\n",
       "    .dataframe tbody tr th {\n",
       "        vertical-align: top;\n",
       "    }\n",
       "\n",
       "    .dataframe thead th {\n",
       "        text-align: right;\n",
       "    }\n",
       "</style>\n",
       "<table border=\"1\" class=\"dataframe\">\n",
       "  <thead>\n",
       "    <tr style=\"text-align: right;\">\n",
       "      <th></th>\n",
       "      <th>loss</th>\n",
       "      <th>binary_accuracy</th>\n",
       "      <th>val_loss</th>\n",
       "      <th>val_binary_accuracy</th>\n",
       "      <th>epoch</th>\n",
       "    </tr>\n",
       "  </thead>\n",
       "  <tbody>\n",
       "    <tr>\n",
       "      <th>95</th>\n",
       "      <td>0.328643</td>\n",
       "      <td>0.854110</td>\n",
       "      <td>0.367893</td>\n",
       "      <td>0.836643</td>\n",
       "      <td>95</td>\n",
       "    </tr>\n",
       "    <tr>\n",
       "      <th>96</th>\n",
       "      <td>0.328510</td>\n",
       "      <td>0.858853</td>\n",
       "      <td>0.368902</td>\n",
       "      <td>0.837545</td>\n",
       "      <td>96</td>\n",
       "    </tr>\n",
       "    <tr>\n",
       "      <th>97</th>\n",
       "      <td>0.326989</td>\n",
       "      <td>0.856594</td>\n",
       "      <td>0.366452</td>\n",
       "      <td>0.837545</td>\n",
       "      <td>97</td>\n",
       "    </tr>\n",
       "    <tr>\n",
       "      <th>98</th>\n",
       "      <td>0.326733</td>\n",
       "      <td>0.862240</td>\n",
       "      <td>0.367375</td>\n",
       "      <td>0.838448</td>\n",
       "      <td>98</td>\n",
       "    </tr>\n",
       "    <tr>\n",
       "      <th>99</th>\n",
       "      <td>0.331380</td>\n",
       "      <td>0.855917</td>\n",
       "      <td>0.365569</td>\n",
       "      <td>0.835740</td>\n",
       "      <td>99</td>\n",
       "    </tr>\n",
       "  </tbody>\n",
       "</table>\n",
       "</div>"
      ],
      "text/plain": [
       "        loss  binary_accuracy  val_loss  val_binary_accuracy  epoch\n",
       "95  0.328643         0.854110  0.367893             0.836643     95\n",
       "96  0.328510         0.858853  0.368902             0.837545     96\n",
       "97  0.326989         0.856594  0.366452             0.837545     97\n",
       "98  0.326733         0.862240  0.367375             0.838448     98\n",
       "99  0.331380         0.855917  0.365569             0.835740     99"
      ]
     },
     "execution_count": 62,
     "metadata": {},
     "output_type": "execute_result"
    }
   ],
   "source": [
    "history_df = pd.DataFrame(history.history)\n",
    "history_df['epoch'] = history.epoch\n",
    "history_df.tail()"
   ]
  },
  {
   "cell_type": "code",
   "execution_count": 63,
   "metadata": {},
   "outputs": [
    {
     "data": {
      "text/plain": [
       "<matplotlib.legend.Legend at 0x7fa850250f60>"
      ]
     },
     "execution_count": 63,
     "metadata": {},
     "output_type": "execute_result"
    },
    {
     "data": {
      "image/png": "[encoded data removed]",
      "text/plain": [
       "<Figure size 432x288 with 1 Axes>"
      ]
     },
     "metadata": {
      "needs_background": "light"
     },
     "output_type": "display_data"
    }
   ],
   "source": [
    "plt.xlabel('epochs')\n",
    "plt.ylabel('loss')\n",
    "#plt.ylim([0, 100])\n",
    "plt.plot(history_df['epoch'], history_df['loss'], label='Training')\n",
    "plt.plot(history_df['epoch'], history_df['val_loss'], label='Validation', linestyle='dashed')\n",
    "plt.legend(loc='upper center', shadow=False)"
   ]
  },
  {
   "cell_type": "markdown",
   "metadata": {},
   "source": [
    "### Model Evaluation"
   ]
  },
  {
   "cell_type": "code",
   "execution_count": 64,
   "metadata": {},
   "outputs": [
    {
     "name": "stdout",
     "output_type": "stream",
     "text": [
      "44/44 [==============================] - 0s 592us/step - loss: 0.3512 - binary_accuracy: 0.8432\n"
     ]
    },
    {
     "data": {
      "text/plain": [
       "[0.3512304127216339, 0.8432080745697021]"
      ]
     },
     "execution_count": 64,
     "metadata": {},
     "output_type": "execute_result"
    }
   ],
   "source": [
    "lr_model.evaluate(X_test, Y_test)"
   ]
  },
  {
   "cell_type": "markdown",
   "metadata": {},
   "source": [
    "### Inference"
   ]
  },
  {
   "cell_type": "code",
   "execution_count": 84,
   "metadata": {},
   "outputs": [
    {
     "name": "stdout",
     "output_type": "stream",
     "text": [
      "a fan film that for the uninitiated plays better on video with the sound turned down: 0\n",
      "a stirring , funny and finally transporting re imagining of beauty and the beast and 1930s horror films: 1\n",
      "I'm happy to be here: 1\n",
      "i got scared: 0\n",
      "i'm sick: 0\n",
      "today is a beautiful day: 1\n"
     ]
    }
   ],
   "source": [
    "\n",
    "sentences = [\n",
    "    \"a fan film that for the uninitiated plays better on video with the sound turned down\",\n",
    "    \"a stirring , funny and finally transporting re imagining of beauty and the beast and 1930s horror films\",\n",
    "    \"I'm happy to be here\", \n",
    "    \"i got scared\", \"i'm sick\", \n",
    "    \"today is a beautiful day\"]\n",
    "\n",
    "tokenized = tokenize(sentences)\n",
    "padded = pad_tokens(tokenized, max_len)\n",
    "attention_mask = get_attention_mask(padded)\n",
    "attention_mask = tf.convert_to_tensor(attention_mask, dtype=tf.int32)\n",
    "input_ids = tf.convert_to_tensor(padded, dtype=tf.int32)\n",
    "\n",
    "last_hidden_states = model(input_ids, attention_mask = attention_mask)\n",
    "\n",
    "features = last_hidden_states[0][:,0,:].numpy()\n",
    "predictions = lr_model.predict(features) > .5\n",
    "\n",
    "for i in range(len(sentences)):\n",
    "    print(f'{sentences[i]}: {int(predictions[i][0])}')\n"
   ]
  }
 ],
 "metadata": {
  "kernelspec": {
   "display_name": "Python 3",
   "language": "python",
   "name": "python3"
  },
  "language_info": {
   "codemirror_mode": {
    "name": "ipython",
    "version": 3
   },
   "file_extension": ".py",
   "mimetype": "text/x-python",
   "name": "python",
   "nbconvert_exporter": "python",
   "pygments_lexer": "ipython3",
   "version": "3.7.3"
  },
  "orig_nbformat": 4,
  "vscode": {
   "interpreter": {
    "hash": "1c48d435e47ba5d5a932a530ddeb248c9baa0081132f1819dcaeedbf0fcd2e46"
   }
  }
 },
 "nbformat": 4,
 "nbformat_minor": 2
}
