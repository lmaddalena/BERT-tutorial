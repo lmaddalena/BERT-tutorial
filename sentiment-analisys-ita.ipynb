{
 "cells": [
  {
   "cell_type": "markdown",
   "metadata": {},
   "source": [
    "# Sentiment Analisys ITA"
   ]
  },
  {
   "cell_type": "code",
   "execution_count": 1,
   "metadata": {},
   "outputs": [],
   "source": [
    "import numpy as np\n",
    "import pandas as pd\n",
    "import tensorflow as tf\n",
    "import transformers as ppb \n",
    "import matplotlib.pyplot as plt\n",
    "from tensorflow import keras"
   ]
  },
  {
   "cell_type": "markdown",
   "metadata": {},
   "source": [
    "### Import Dataset"
   ]
  },
  {
   "cell_type": "code",
   "execution_count": 2,
   "metadata": {},
   "outputs": [],
   "source": [
    "df = pd.read_csv('data/betsentiment-IT-tweets-sentiment-players.csv', delimiter=',')"
   ]
  },
  {
   "cell_type": "code",
   "execution_count": 3,
   "metadata": {},
   "outputs": [
    {
     "data": {
      "text/html": [
       "<div>\n",
       "<style scoped>\n",
       "    .dataframe tbody tr th:only-of-type {\n",
       "        vertical-align: middle;\n",
       "    }\n",
       "\n",
       "    .dataframe tbody tr th {\n",
       "        vertical-align: top;\n",
       "    }\n",
       "\n",
       "    .dataframe thead th {\n",
       "        text-align: right;\n",
       "    }\n",
       "</style>\n",
       "<table border=\"1\" class=\"dataframe\">\n",
       "  <thead>\n",
       "    <tr style=\"text-align: right;\">\n",
       "      <th></th>\n",
       "      <th>tweet_date_created</th>\n",
       "      <th>tweet_id</th>\n",
       "      <th>tweet_text</th>\n",
       "      <th>language</th>\n",
       "      <th>sentiment</th>\n",
       "      <th>sentiment_score</th>\n",
       "    </tr>\n",
       "  </thead>\n",
       "  <tbody>\n",
       "    <tr>\n",
       "      <th>0</th>\n",
       "      <td>2018-12-10T10:45:40.865000</td>\n",
       "      <td>1072079899224100865</td>\n",
       "      <td>@juventusfc @G_Higuain Auguri pipita,sempre co...</td>\n",
       "      <td>it</td>\n",
       "      <td>NEUTRAL</td>\n",
       "      <td>{\"Neutral\":0.858726024627685546875,\"Negative\":...</td>\n",
       "    </tr>\n",
       "    <tr>\n",
       "      <th>1</th>\n",
       "      <td>2018-06-30T18:41:02.817000</td>\n",
       "      <td>1013130303454498817</td>\n",
       "      <td>@realvarriale @massimozampini @KMbappe @G_Higu...</td>\n",
       "      <td>it</td>\n",
       "      <td>NEUTRAL</td>\n",
       "      <td>{\"Neutral\":0.973993778228759765625,\"Negative\":...</td>\n",
       "    </tr>\n",
       "    <tr>\n",
       "      <th>2</th>\n",
       "      <td>2018-12-26T19:40:44.308000</td>\n",
       "      <td>1078012758069858308</td>\n",
       "      <td>@OfficialASRoma @D_10Perotti @Hyundai_Italia S...</td>\n",
       "      <td>it</td>\n",
       "      <td>NEUTRAL</td>\n",
       "      <td>{\"Neutral\":0.9844334125518798828125,\"Negative\"...</td>\n",
       "    </tr>\n",
       "    <tr>\n",
       "      <th>3</th>\n",
       "      <td>2018-07-12T11:26:37.766000</td>\n",
       "      <td>1017369635816181766</td>\n",
       "      <td>@CarloRienzi @Cristiano @juventusfc Populismo ...</td>\n",
       "      <td>it</td>\n",
       "      <td>NEUTRAL</td>\n",
       "      <td>{\"Neutral\":0.993849217891693115234375,\"Negativ...</td>\n",
       "    </tr>\n",
       "    <tr>\n",
       "      <th>4</th>\n",
       "      <td>2018-06-12T19:20:36</td>\n",
       "      <td>1006617282779451392</td>\n",
       "      <td>@OfficialASRoma @OfficialRadja @leonsfdo non c...</td>\n",
       "      <td>it</td>\n",
       "      <td>NEUTRAL</td>\n",
       "      <td>{\"Neutral\":0.87245881557464599609375,\"Negative...</td>\n",
       "    </tr>\n",
       "  </tbody>\n",
       "</table>\n",
       "</div>"
      ],
      "text/plain": [
       "           tweet_date_created             tweet_id  \\\n",
       "0  2018-12-10T10:45:40.865000  1072079899224100865   \n",
       "1  2018-06-30T18:41:02.817000  1013130303454498817   \n",
       "2  2018-12-26T19:40:44.308000  1078012758069858308   \n",
       "3  2018-07-12T11:26:37.766000  1017369635816181766   \n",
       "4         2018-06-12T19:20:36  1006617282779451392   \n",
       "\n",
       "                                          tweet_text language sentiment  \\\n",
       "0  @juventusfc @G_Higuain Auguri pipita,sempre co...       it   NEUTRAL   \n",
       "1  @realvarriale @massimozampini @KMbappe @G_Higu...       it   NEUTRAL   \n",
       "2  @OfficialASRoma @D_10Perotti @Hyundai_Italia S...       it   NEUTRAL   \n",
       "3  @CarloRienzi @Cristiano @juventusfc Populismo ...       it   NEUTRAL   \n",
       "4  @OfficialASRoma @OfficialRadja @leonsfdo non c...       it   NEUTRAL   \n",
       "\n",
       "                                     sentiment_score  \n",
       "0  {\"Neutral\":0.858726024627685546875,\"Negative\":...  \n",
       "1  {\"Neutral\":0.973993778228759765625,\"Negative\":...  \n",
       "2  {\"Neutral\":0.9844334125518798828125,\"Negative\"...  \n",
       "3  {\"Neutral\":0.993849217891693115234375,\"Negativ...  \n",
       "4  {\"Neutral\":0.87245881557464599609375,\"Negative...  "
      ]
     },
     "execution_count": 3,
     "metadata": {},
     "output_type": "execute_result"
    }
   ],
   "source": [
    "df.head()"
   ]
  },
  {
   "cell_type": "code",
   "execution_count": 4,
   "metadata": {},
   "outputs": [],
   "source": [
    "df = df.iloc[:, [2,4]]"
   ]
  },
  {
   "cell_type": "code",
   "execution_count": 5,
   "metadata": {},
   "outputs": [
    {
     "data": {
      "text/html": [
       "<div>\n",
       "<style scoped>\n",
       "    .dataframe tbody tr th:only-of-type {\n",
       "        vertical-align: middle;\n",
       "    }\n",
       "\n",
       "    .dataframe tbody tr th {\n",
       "        vertical-align: top;\n",
       "    }\n",
       "\n",
       "    .dataframe thead th {\n",
       "        text-align: right;\n",
       "    }\n",
       "</style>\n",
       "<table border=\"1\" class=\"dataframe\">\n",
       "  <thead>\n",
       "    <tr style=\"text-align: right;\">\n",
       "      <th></th>\n",
       "      <th>tweet_text</th>\n",
       "      <th>sentiment</th>\n",
       "    </tr>\n",
       "  </thead>\n",
       "  <tbody>\n",
       "    <tr>\n",
       "      <th>0</th>\n",
       "      <td>@juventusfc @G_Higuain Auguri pipita,sempre co...</td>\n",
       "      <td>NEUTRAL</td>\n",
       "    </tr>\n",
       "    <tr>\n",
       "      <th>1</th>\n",
       "      <td>@realvarriale @massimozampini @KMbappe @G_Higu...</td>\n",
       "      <td>NEUTRAL</td>\n",
       "    </tr>\n",
       "    <tr>\n",
       "      <th>2</th>\n",
       "      <td>@OfficialASRoma @D_10Perotti @Hyundai_Italia S...</td>\n",
       "      <td>NEUTRAL</td>\n",
       "    </tr>\n",
       "    <tr>\n",
       "      <th>3</th>\n",
       "      <td>@CarloRienzi @Cristiano @juventusfc Populismo ...</td>\n",
       "      <td>NEUTRAL</td>\n",
       "    </tr>\n",
       "    <tr>\n",
       "      <th>4</th>\n",
       "      <td>@OfficialASRoma @OfficialRadja @leonsfdo non c...</td>\n",
       "      <td>NEUTRAL</td>\n",
       "    </tr>\n",
       "  </tbody>\n",
       "</table>\n",
       "</div>"
      ],
      "text/plain": [
       "                                          tweet_text sentiment\n",
       "0  @juventusfc @G_Higuain Auguri pipita,sempre co...   NEUTRAL\n",
       "1  @realvarriale @massimozampini @KMbappe @G_Higu...   NEUTRAL\n",
       "2  @OfficialASRoma @D_10Perotti @Hyundai_Italia S...   NEUTRAL\n",
       "3  @CarloRienzi @Cristiano @juventusfc Populismo ...   NEUTRAL\n",
       "4  @OfficialASRoma @OfficialRadja @leonsfdo non c...   NEUTRAL"
      ]
     },
     "execution_count": 5,
     "metadata": {},
     "output_type": "execute_result"
    }
   ],
   "source": [
    "df.head()"
   ]
  },
  {
   "cell_type": "code",
   "execution_count": 6,
   "metadata": {},
   "outputs": [
    {
     "data": {
      "text/plain": [
       "(165815, 2)"
      ]
     },
     "execution_count": 6,
     "metadata": {},
     "output_type": "execute_result"
    }
   ],
   "source": [
    "df.shape"
   ]
  },
  {
   "cell_type": "code",
   "execution_count": 7,
   "metadata": {},
   "outputs": [
    {
     "data": {
      "image/png": "[encoded data removed]",
      "text/plain": [
       "<Figure size 432x288 with 1 Axes>"
      ]
     },
     "metadata": {
      "needs_background": "light"
     },
     "output_type": "display_data"
    }
   ],
   "source": [
    "labels = df.loc[:,[\"sentiment\"]]\n",
    "plt.hist(labels)\n",
    "plt.xlabel('sentiment')\n",
    "plt.ylabel('nb samples')\n",
    "plt.title('sentiment distribution')\n",
    "plt.xticks(np.arange(len(np.unique(labels))));\n"
   ]
  },
  {
   "cell_type": "code",
   "execution_count": 8,
   "metadata": {},
   "outputs": [
    {
     "name": "stdout",
     "output_type": "stream",
     "text": [
      "MIXED 527\n",
      "NEGATIVE 6542\n",
      "NEUTRAL 135194\n",
      "POSITIVE 23552\n"
     ]
    }
   ],
   "source": [
    "for l in np.unique(labels):\n",
    "    print (l, (labels.loc[labels['sentiment'] == l]).count()[0])\n",
    "\n",
    "\n"
   ]
  },
  {
   "cell_type": "code",
   "execution_count": 9,
   "metadata": {},
   "outputs": [],
   "source": [
    "df = df[df['sentiment'].isin(['POSITIVE', 'NEGATIVE'])]"
   ]
  },
  {
   "cell_type": "code",
   "execution_count": 10,
   "metadata": {},
   "outputs": [
    {
     "data": {
      "text/plain": [
       "(30094, 2)"
      ]
     },
     "execution_count": 10,
     "metadata": {},
     "output_type": "execute_result"
    }
   ],
   "source": [
    "df.shape"
   ]
  },
  {
   "cell_type": "code",
   "execution_count": 11,
   "metadata": {},
   "outputs": [
    {
     "data": {
      "image/png": "[encoded data removed]",
      "text/plain": [
       "<Figure size 432x288 with 1 Axes>"
      ]
     },
     "metadata": {
      "needs_background": "light"
     },
     "output_type": "display_data"
    }
   ],
   "source": [
    "labels = df.loc[:,[\"sentiment\"]]\n",
    "plt.hist(labels)\n",
    "plt.xlabel('sentiment')\n",
    "plt.ylabel('nb samples')\n",
    "plt.title('sentiment distribution')\n",
    "plt.xticks(np.arange(len(np.unique(labels))));"
   ]
  },
  {
   "cell_type": "code",
   "execution_count": 12,
   "metadata": {},
   "outputs": [],
   "source": [
    "df.loc[df['sentiment'] == 'POSITIVE', 'sentiment'] = 1\n",
    "df.loc[df['sentiment'] == 'NEGATIVE', 'sentiment'] = 0"
   ]
  },
  {
   "cell_type": "code",
   "execution_count": 13,
   "metadata": {},
   "outputs": [],
   "source": [
    "df = df[:6000]"
   ]
  },
  {
   "cell_type": "code",
   "execution_count": 14,
   "metadata": {},
   "outputs": [
    {
     "data": {
      "image/png": "[encoded data removed]",
      "text/plain": [
       "<Figure size 432x288 with 1 Axes>"
      ]
     },
     "metadata": {
      "needs_background": "light"
     },
     "output_type": "display_data"
    }
   ],
   "source": [
    "labels = df.loc[:,[\"sentiment\"]]\n",
    "plt.hist(labels)\n",
    "plt.xlabel('sentiment')\n",
    "plt.ylabel('nb samples')\n",
    "plt.title('sentiment distribution')\n",
    "plt.xticks(np.arange(len(np.unique(labels))));"
   ]
  },
  {
   "cell_type": "markdown",
   "metadata": {},
   "source": [
    "### Loading the Pre-trained BERT model"
   ]
  },
  {
   "cell_type": "code",
   "execution_count": 15,
   "metadata": {},
   "outputs": [
    {
     "name": "stderr",
     "output_type": "stream",
     "text": [
      "Some layers from the model checkpoint at dbmdz/bert-base-italian-xxl-cased were not used when initializing TFBertModel: ['nsp___cls', 'mlm___cls']\n",
      "- This IS expected if you are initializing TFBertModel from the checkpoint of a model trained on another task or with another architecture (e.g. initializing a BertForSequenceClassification model from a BertForPreTraining model).\n",
      "- This IS NOT expected if you are initializing TFBertModel from the checkpoint of a model that you expect to be exactly identical (initializing a BertForSequenceClassification model from a BertForSequenceClassification model).\n",
      "All the layers of TFBertModel were initialized from the model checkpoint at dbmdz/bert-base-italian-xxl-cased.\n",
      "If your task is similar to the task the model of the checkpoint was trained on, you can already use TFBertModel for predictions without further training.\n"
     ]
    }
   ],
   "source": [
    "# Italian Bert\n",
    "model_class, tokenizer_class, pretrained_weights = (ppb.TFAutoModel, ppb.AutoTokenizer, 'dbmdz/bert-base-italian-xxl-cased')\n",
    "\n",
    "# Load pretrained model/tokenizer\n",
    "tokenizer = tokenizer_class.from_pretrained(pretrained_weights)\n",
    "model = model_class.from_pretrained(pretrained_weights)"
   ]
  },
  {
   "cell_type": "markdown",
   "metadata": {},
   "source": [
    "### Tokenization"
   ]
  },
  {
   "cell_type": "code",
   "execution_count": 16,
   "metadata": {},
   "outputs": [],
   "source": [
    "def tokenize(sentences):\n",
    "    tokenized = [tokenizer(sentence, add_special_tokens=True)['input_ids'] for sentence in sentences]\n",
    "    return tokenized"
   ]
  },
  {
   "cell_type": "code",
   "execution_count": 17,
   "metadata": {},
   "outputs": [],
   "source": [
    "tokenized = tokenize(df['tweet_text'])"
   ]
  },
  {
   "cell_type": "code",
   "execution_count": 18,
   "metadata": {},
   "outputs": [
    {
     "name": "stdout",
     "output_type": "stream",
     "text": [
      "sentence:  @LichtsteinerSte @juventusfc Grazie di tutto,#SwissExpress,sono stati 7 anni indimenticabili fatti di vittorie,sconfitte (poche!),enormi gioie e tante incazzature in campo con gli arbitri.? Sono stati 7 anni da #MY7H.\n",
      "Mi mancherai.???\n",
      "tokenized:  [102, 18969, 15776, 7281, 7723, 108, 25295, 18969, 30022, 399, 4505, 30896, 30885, 1141, 120, 564, 1307, 864, 25636, 13063, 12359, 1307, 288, 1030, 729, 578, 16821, 385, 3437, 120, 12008, 1307, 20133, 249, 6764, 2692, 4567, 1307, 12766, 8470, 30876, 126, 5974, 2617, 29219, 139, 1859, 153, 368, 12501, 303, 697, 3098, 694, 1030, 729, 578, 203, 864, 189, 30962, 30939, 30937, 697, 481, 23589, 3244, 697, 3098, 3098, 3098, 103]\n",
      "decoded:  [CLS] @ LichtsteinerSte @ juventusfc Grazie di tutto, # SwissExpress, sono stati 7 anni indimenticabili fatti di vittorie, sconfitte ( poche! ), enormi gioie e tante incazzature in campo con gli arbitri.? Sono stati 7 anni da # MY7H. Mi mancherai.??? [SEP]\n"
     ]
    }
   ],
   "source": [
    "print(\"sentence: \", df.iloc[0,0])\n",
    "print(\"tokenized: \", tokenized[0])\n",
    "print(\"decoded: \", tokenizer.decode(tokenized[0]))"
   ]
  },
  {
   "cell_type": "markdown",
   "metadata": {},
   "source": [
    "### Padding"
   ]
  },
  {
   "cell_type": "code",
   "execution_count": 19,
   "metadata": {},
   "outputs": [],
   "source": [
    "def get_max_length(tokens):\n",
    "    max_len = 0\n",
    "    for i in tokens:\n",
    "        if len(i) > max_len:\n",
    "            max_len = len(i)\n",
    "    return max_len"
   ]
  },
  {
   "cell_type": "code",
   "execution_count": 20,
   "metadata": {},
   "outputs": [
    {
     "name": "stdout",
     "output_type": "stream",
     "text": [
      "Max sentence legth is  164\n"
     ]
    }
   ],
   "source": [
    "max_len = get_max_length(tokenized)\n",
    "print(\"Max sentence legth is \", max_len)"
   ]
  },
  {
   "cell_type": "code",
   "execution_count": 21,
   "metadata": {},
   "outputs": [],
   "source": [
    "def pad_tokens(tokens, max_len):\n",
    "    padded = np.array([i + [0]*(max_len-len(i)) for i in tokens])\n",
    "    return padded"
   ]
  },
  {
   "cell_type": "code",
   "execution_count": 22,
   "metadata": {},
   "outputs": [],
   "source": [
    "padded = pad_tokens(tokenized, max_len)"
   ]
  },
  {
   "cell_type": "code",
   "execution_count": 23,
   "metadata": {},
   "outputs": [
    {
     "name": "stdout",
     "output_type": "stream",
     "text": [
      "[  102 18969 15776  7281  7723   108 25295 18969 30022   399  4505 30896\n",
      " 30885  1141   120   564  1307   864 25636 13063 12359  1307   288  1030\n",
      "   729   578 16821   385  3437   120 12008  1307 20133   249  6764  2692\n",
      "  4567  1307 12766  8470 30876   126  5974  2617 29219   139  1859   153\n",
      "   368 12501   303   697  3098   694  1030   729   578   203   864   189\n",
      " 30962 30939 30937   697   481 23589  3244   697  3098  3098  3098   103\n",
      "     0     0     0     0     0     0     0     0     0     0     0     0\n",
      "     0     0     0     0     0     0     0     0     0     0     0     0\n",
      "     0     0     0     0     0     0     0     0     0     0     0     0\n",
      "     0     0     0     0     0     0     0     0     0     0     0     0\n",
      "     0     0     0     0     0     0     0     0     0     0     0     0\n",
      "     0     0     0     0     0     0     0     0     0     0     0     0\n",
      "     0     0     0     0     0     0     0     0     0     0     0     0\n",
      "     0     0     0     0     0     0     0     0]\n"
     ]
    }
   ],
   "source": [
    "print(padded[0])"
   ]
  },
  {
   "cell_type": "code",
   "execution_count": 24,
   "metadata": {},
   "outputs": [
    {
     "name": "stdout",
     "output_type": "stream",
     "text": [
      "shape of padded:  (6000, 164)\n"
     ]
    }
   ],
   "source": [
    "print(\"shape of padded: \", padded.shape)"
   ]
  },
  {
   "cell_type": "markdown",
   "metadata": {},
   "source": [
    "### Masking"
   ]
  },
  {
   "cell_type": "code",
   "execution_count": 25,
   "metadata": {},
   "outputs": [],
   "source": [
    "def get_attention_mask(tokens):\n",
    "    attention_mask = np.where(tokens != 0, 1, 0)    \n",
    "    return attention_mask"
   ]
  },
  {
   "cell_type": "code",
   "execution_count": 26,
   "metadata": {},
   "outputs": [
    {
     "name": "stdout",
     "output_type": "stream",
     "text": [
      "[1 1 1 1 1 1 1 1 1 1 1 1 1 1 1 1 1 1 1 1 1 1 1 1 1 1 1 1 1 1 1 1 1 1 1 1 1\n",
      " 1 1 1 1 1 1 1 1 1 1 1 1 1 1 1 1 1 1 1 1 1 1 1 1 1 1 1 1 1 1 1 1 1 1 1 0 0\n",
      " 0 0 0 0 0 0 0 0 0 0 0 0 0 0 0 0 0 0 0 0 0 0 0 0 0 0 0 0 0 0 0 0 0 0 0 0 0\n",
      " 0 0 0 0 0 0 0 0 0 0 0 0 0 0 0 0 0 0 0 0 0 0 0 0 0 0 0 0 0 0 0 0 0 0 0 0 0\n",
      " 0 0 0 0 0 0 0 0 0 0 0 0 0 0 0 0]\n"
     ]
    }
   ],
   "source": [
    "attention_mask = get_attention_mask(padded)\n",
    "print(attention_mask[0])"
   ]
  },
  {
   "cell_type": "markdown",
   "metadata": {},
   "source": [
    "### Create input tensors"
   ]
  },
  {
   "cell_type": "code",
   "execution_count": 27,
   "metadata": {},
   "outputs": [],
   "source": [
    "input_ids = tf.convert_to_tensor(padded, dtype=tf.int32)\n",
    "attention_mask = tf.convert_to_tensor(attention_mask, dtype=tf.int32)"
   ]
  },
  {
   "cell_type": "markdown",
   "metadata": {},
   "source": [
    "The model() function runs our sentences through BERT. The results of the processing will be returned into last_hidden_states."
   ]
  },
  {
   "cell_type": "code",
   "execution_count": 28,
   "metadata": {},
   "outputs": [
    {
     "data": {
      "text/plain": [
       "768"
      ]
     },
     "execution_count": 28,
     "metadata": {},
     "output_type": "execute_result"
    }
   ],
   "source": [
    "model.config.to_dict()['hidden_size']"
   ]
  },
  {
   "cell_type": "code",
   "execution_count": 30,
   "metadata": {},
   "outputs": [
    {
     "name": "stdout",
     "output_type": "stream",
     "text": [
      "Extract features using batches for memory issue:\n",
      "Batch 1 [0:100]\n",
      "Batch 2 [100:200]\n",
      "Batch 3 [200:300]\n",
      "Batch 4 [300:400]\n",
      "Batch 5 [400:500]\n",
      "Batch 6 [500:600]\n",
      "Batch 7 [600:700]\n",
      "Batch 8 [700:800]\n",
      "Batch 9 [800:900]\n",
      "Batch 10 [900:1000]\n",
      "Batch 11 [1000:1100]\n",
      "Batch 12 [1100:1200]\n",
      "Batch 13 [1200:1300]\n",
      "Batch 14 [1300:1400]\n",
      "Batch 15 [1400:1500]\n",
      "Batch 16 [1500:1600]\n",
      "Batch 17 [1600:1700]\n",
      "Batch 18 [1700:1800]\n",
      "Batch 19 [1800:1900]\n",
      "Batch 20 [1900:2000]\n",
      "Batch 21 [2000:2100]\n",
      "Batch 22 [2100:2200]\n",
      "Batch 23 [2200:2300]\n",
      "Batch 24 [2300:2400]\n",
      "Batch 25 [2400:2500]\n",
      "Batch 26 [2500:2600]\n",
      "Batch 27 [2600:2700]\n",
      "Batch 28 [2700:2800]\n",
      "Batch 29 [2800:2900]\n",
      "Batch 30 [2900:3000]\n",
      "Batch 31 [3000:3100]\n",
      "Batch 32 [3100:3200]\n",
      "Batch 33 [3200:3300]\n",
      "Batch 34 [3300:3400]\n",
      "Batch 35 [3400:3500]\n",
      "Batch 36 [3500:3600]\n",
      "Batch 37 [3600:3700]\n",
      "Batch 38 [3700:3800]\n",
      "Batch 39 [3800:3900]\n",
      "Batch 40 [3900:4000]\n",
      "Batch 41 [4000:4100]\n",
      "Batch 42 [4100:4200]\n",
      "Batch 43 [4200:4300]\n",
      "Batch 44 [4300:4400]\n",
      "Batch 45 [4400:4500]\n",
      "Batch 46 [4500:4600]\n",
      "Batch 47 [4600:4700]\n",
      "Batch 48 [4700:4800]\n",
      "Batch 49 [4800:4900]\n",
      "Batch 50 [4900:5000]\n",
      "Batch 51 [5000:5100]\n",
      "Batch 52 [5100:5200]\n",
      "Batch 53 [5200:5300]\n",
      "Batch 54 [5300:5400]\n",
      "Batch 55 [5400:5500]\n",
      "Batch 56 [5500:5600]\n",
      "Batch 57 [5600:5700]\n",
      "Batch 58 [5700:5800]\n",
      "Batch 59 [5800:5900]\n",
      "Batch 60 [5900:6000]\n"
     ]
    }
   ],
   "source": [
    "batch_size = 100\n",
    "m = input_ids.shape[0]\n",
    "n = int(m / batch_size)\n",
    "\n",
    "hidden_units =  model.config.to_dict()['hidden_size']\n",
    "features = np.zeros((m, hidden_units))\n",
    "\n",
    "print('Extract features using batches for memory issue:')\n",
    "\n",
    "for i in range(n):\n",
    "    j, k = i*batch_size, i*batch_size+batch_size\n",
    "    print(f'Batch {i+1} [{j}:{k}]')\n",
    "    batch_input = input_ids[j:k]\n",
    "    batch_attention_mask = attention_mask[j:k]\n",
    "    last_hidden_states = model(batch_input, attention_mask = batch_attention_mask)\n",
    "\n",
    "    #Let's slice only the part of the output that we need. That is the output corresponding the first token of each sentence. \n",
    "    # The way BERT does sentence classification, is that it adds a token called [CLS] (for classification) at the beginning of \n",
    "    # every sentence. The output corresponding to that token can be thought of as an embedding for the entire sentence.\n",
    "    features[j:k] = last_hidden_states[0][:,0,:].numpy()\n",
    "\n",
    "    ## if you use BERT instead of distilBERT model, use this\n",
    "    #features[j:k] = last_hidden_states[1].numpy() \n",
    "\n",
    "if(n*batch_size != m):\n",
    "    i = i + 1\n",
    "    j, k = i*batch_size, i*batch_size+(m-n*batch_size)\n",
    "    print(f'Batch {i+1} [{j}:{k}]')\n",
    "    batch_input = input_ids[j:k]\n",
    "    batch_attention_mask = attention_mask[j:k]\n",
    "    last_hidden_states = model(batch_input, attention_mask = batch_attention_mask)\n",
    "    features[j:k] = last_hidden_states[0][:,0,:].numpy()\n"
   ]
  },
  {
   "cell_type": "code",
   "execution_count": 31,
   "metadata": {},
   "outputs": [
    {
     "data": {
      "text/plain": [
       "(6000, 768)"
      ]
     },
     "execution_count": 31,
     "metadata": {},
     "output_type": "execute_result"
    }
   ],
   "source": [
    "features.shape"
   ]
  },
  {
   "cell_type": "code",
   "execution_count": 48,
   "metadata": {},
   "outputs": [],
   "source": [
    "lables = df['sentiment'].to_numpy(dtype=\"Int32\")"
   ]
  },
  {
   "cell_type": "code",
   "execution_count": 49,
   "metadata": {},
   "outputs": [
    {
     "name": "stdout",
     "output_type": "stream",
     "text": [
      "shapes of training data:  (4800, 768) (4800,)\n",
      "shapes of test data:  (1200, 768) (1200,)\n"
     ]
    }
   ],
   "source": [
    "# 80% train, 20% test\n",
    "split_size = int(features.shape[0] * .8)    \n",
    "X_train = features[:split_size,:]\n",
    "Y_train = lables[:split_size]\n",
    "X_test = features[split_size:,:]\n",
    "Y_test = lables[split_size:]\n",
    "\n",
    "print(\"shapes of training data: \", X_train.shape, Y_train.shape)\n",
    "print(\"shapes of test data: \", X_test.shape, Y_test.shape)"
   ]
  },
  {
   "cell_type": "markdown",
   "metadata": {},
   "source": [
    "### Create the Logistic Regression Model"
   ]
  },
  {
   "cell_type": "code",
   "execution_count": 50,
   "metadata": {},
   "outputs": [],
   "source": [
    "def create_model(input_shape, classes):\n",
    "    inputs = keras.Input(shape=input_shape, name='input')\n",
    "    #h1 = keras.layers.Dense(1024, activation='relu', name='h1')(inputs)    \n",
    "    #h2 = keras.layers.Dense(512, activation='relu', name='h2')(h1)\n",
    "    #h3 = keras.layers.Dense(32, activation='relu', name='h3')(h2)\n",
    "    d1 = keras.layers.Dropout(0.1, name='d1')(inputs)\n",
    "    outputs = keras.layers.Dense(classes, activation='sigmoid', name='output')(d1)\n",
    "    model = tf.keras.Model(inputs=inputs, outputs=outputs)\n",
    "\n",
    "    optimizer = tf.keras.optimizers.Adam()\n",
    "\n",
    "    model.compile(\n",
    "        loss='binary_crossentropy', \n",
    "        optimizer=optimizer, \n",
    "        metrics=['binary_accuracy']\n",
    "    )\n",
    "\n",
    "    return model"
   ]
  },
  {
   "cell_type": "code",
   "execution_count": 51,
   "metadata": {},
   "outputs": [
    {
     "name": "stdout",
     "output_type": "stream",
     "text": [
      "Model: \"model_1\"\n",
      "_________________________________________________________________\n",
      "Layer (type)                 Output Shape              Param #   \n",
      "=================================================================\n",
      "input (InputLayer)           [(None, 768)]             0         \n",
      "_________________________________________________________________\n",
      "d1 (Dropout)                 (None, 768)               0         \n",
      "_________________________________________________________________\n",
      "output (Dense)               (None, 1)                 769       \n",
      "=================================================================\n",
      "Total params: 769\n",
      "Trainable params: 769\n",
      "Non-trainable params: 0\n",
      "_________________________________________________________________\n"
     ]
    }
   ],
   "source": [
    "lr_model = create_model(X_train.shape[1], 1)\n",
    "lr_model.summary()"
   ]
  },
  {
   "cell_type": "code",
   "execution_count": 52,
   "metadata": {},
   "outputs": [
    {
     "name": "stdout",
     "output_type": "stream",
     "text": [
      "Epoch 1/100\n",
      "30/30 [==============================] - 1s 6ms/step - loss: 0.6143 - binary_accuracy: 0.7042 - val_loss: 0.5289 - val_binary_accuracy: 0.7760\n",
      "Epoch 2/100\n",
      "30/30 [==============================] - 0s 2ms/step - loss: 0.5050 - binary_accuracy: 0.7766 - val_loss: 0.5059 - val_binary_accuracy: 0.7771\n",
      "Epoch 3/100\n",
      "30/30 [==============================] - 0s 2ms/step - loss: 0.4845 - binary_accuracy: 0.7846 - val_loss: 0.4943 - val_binary_accuracy: 0.7802\n",
      "Epoch 4/100\n",
      "30/30 [==============================] - 0s 2ms/step - loss: 0.4698 - binary_accuracy: 0.7901 - val_loss: 0.4850 - val_binary_accuracy: 0.7844\n",
      "Epoch 5/100\n",
      "30/30 [==============================] - 0s 2ms/step - loss: 0.4574 - binary_accuracy: 0.7891 - val_loss: 0.4782 - val_binary_accuracy: 0.7844\n",
      "Epoch 6/100\n",
      "30/30 [==============================] - 0s 2ms/step - loss: 0.4497 - binary_accuracy: 0.7935 - val_loss: 0.4709 - val_binary_accuracy: 0.7885\n",
      "Epoch 7/100\n",
      "30/30 [==============================] - 0s 2ms/step - loss: 0.4389 - binary_accuracy: 0.8016 - val_loss: 0.4663 - val_binary_accuracy: 0.7885\n",
      "Epoch 8/100\n",
      "30/30 [==============================] - 0s 2ms/step - loss: 0.4353 - binary_accuracy: 0.7997 - val_loss: 0.4614 - val_binary_accuracy: 0.7906\n",
      "Epoch 9/100\n",
      "30/30 [==============================] - 0s 2ms/step - loss: 0.4289 - binary_accuracy: 0.8018 - val_loss: 0.4554 - val_binary_accuracy: 0.7958\n",
      "Epoch 10/100\n",
      "30/30 [==============================] - 0s 2ms/step - loss: 0.4256 - binary_accuracy: 0.8042 - val_loss: 0.4519 - val_binary_accuracy: 0.7958\n",
      "Epoch 11/100\n",
      "30/30 [==============================] - 0s 2ms/step - loss: 0.4216 - binary_accuracy: 0.8039 - val_loss: 0.4502 - val_binary_accuracy: 0.7979\n",
      "Epoch 12/100\n",
      "30/30 [==============================] - 0s 2ms/step - loss: 0.4145 - binary_accuracy: 0.8083 - val_loss: 0.4455 - val_binary_accuracy: 0.8000\n",
      "Epoch 13/100\n",
      "30/30 [==============================] - 0s 2ms/step - loss: 0.4082 - binary_accuracy: 0.8107 - val_loss: 0.4398 - val_binary_accuracy: 0.8021\n",
      "Epoch 14/100\n",
      "30/30 [==============================] - 0s 2ms/step - loss: 0.4090 - binary_accuracy: 0.8099 - val_loss: 0.4370 - val_binary_accuracy: 0.7979\n",
      "Epoch 15/100\n",
      "30/30 [==============================] - 0s 2ms/step - loss: 0.4001 - binary_accuracy: 0.8167 - val_loss: 0.4316 - val_binary_accuracy: 0.8031\n",
      "Epoch 16/100\n",
      "30/30 [==============================] - 0s 2ms/step - loss: 0.3976 - binary_accuracy: 0.8159 - val_loss: 0.4303 - val_binary_accuracy: 0.7948\n",
      "Epoch 17/100\n",
      "30/30 [==============================] - 0s 2ms/step - loss: 0.3948 - binary_accuracy: 0.8214 - val_loss: 0.4261 - val_binary_accuracy: 0.8031\n",
      "Epoch 18/100\n",
      "30/30 [==============================] - 0s 3ms/step - loss: 0.3947 - binary_accuracy: 0.8172 - val_loss: 0.4247 - val_binary_accuracy: 0.8031\n",
      "Epoch 19/100\n",
      "30/30 [==============================] - 0s 2ms/step - loss: 0.3918 - binary_accuracy: 0.8190 - val_loss: 0.4213 - val_binary_accuracy: 0.8052\n",
      "Epoch 20/100\n",
      "30/30 [==============================] - 0s 2ms/step - loss: 0.3862 - binary_accuracy: 0.8258 - val_loss: 0.4196 - val_binary_accuracy: 0.8042\n",
      "Epoch 21/100\n",
      "30/30 [==============================] - 0s 2ms/step - loss: 0.3819 - binary_accuracy: 0.8268 - val_loss: 0.4162 - val_binary_accuracy: 0.8052\n",
      "Epoch 22/100\n",
      "30/30 [==============================] - 0s 2ms/step - loss: 0.3784 - binary_accuracy: 0.8302 - val_loss: 0.4146 - val_binary_accuracy: 0.8115\n",
      "Epoch 23/100\n",
      "30/30 [==============================] - 0s 2ms/step - loss: 0.3750 - binary_accuracy: 0.8284 - val_loss: 0.4097 - val_binary_accuracy: 0.8115\n",
      "Epoch 24/100\n",
      "30/30 [==============================] - 0s 2ms/step - loss: 0.3765 - binary_accuracy: 0.8240 - val_loss: 0.4093 - val_binary_accuracy: 0.8125\n",
      "Epoch 25/100\n",
      "30/30 [==============================] - 0s 2ms/step - loss: 0.3729 - binary_accuracy: 0.8326 - val_loss: 0.4064 - val_binary_accuracy: 0.8073\n",
      "Epoch 26/100\n",
      "30/30 [==============================] - 0s 2ms/step - loss: 0.3728 - binary_accuracy: 0.8341 - val_loss: 0.4098 - val_binary_accuracy: 0.8135\n",
      "Epoch 27/100\n",
      "30/30 [==============================] - 0s 2ms/step - loss: 0.3710 - binary_accuracy: 0.8318 - val_loss: 0.4029 - val_binary_accuracy: 0.8083\n",
      "Epoch 28/100\n",
      "30/30 [==============================] - 0s 2ms/step - loss: 0.3654 - binary_accuracy: 0.8417 - val_loss: 0.4030 - val_binary_accuracy: 0.8208\n",
      "Epoch 29/100\n",
      "30/30 [==============================] - 0s 2ms/step - loss: 0.3640 - binary_accuracy: 0.8372 - val_loss: 0.4006 - val_binary_accuracy: 0.8115\n",
      "Epoch 30/100\n",
      "30/30 [==============================] - 0s 3ms/step - loss: 0.3636 - binary_accuracy: 0.8404 - val_loss: 0.3985 - val_binary_accuracy: 0.8188\n",
      "Epoch 31/100\n",
      "30/30 [==============================] - 0s 2ms/step - loss: 0.3628 - binary_accuracy: 0.8341 - val_loss: 0.3987 - val_binary_accuracy: 0.8198\n",
      "Epoch 32/100\n",
      "30/30 [==============================] - 0s 3ms/step - loss: 0.3598 - binary_accuracy: 0.8396 - val_loss: 0.3952 - val_binary_accuracy: 0.8198\n",
      "Epoch 33/100\n",
      "30/30 [==============================] - 0s 2ms/step - loss: 0.3589 - binary_accuracy: 0.8362 - val_loss: 0.3944 - val_binary_accuracy: 0.8240\n",
      "Epoch 34/100\n",
      "30/30 [==============================] - 0s 2ms/step - loss: 0.3586 - binary_accuracy: 0.8383 - val_loss: 0.3928 - val_binary_accuracy: 0.8208\n",
      "Epoch 35/100\n",
      "30/30 [==============================] - 0s 2ms/step - loss: 0.3525 - binary_accuracy: 0.8464 - val_loss: 0.3914 - val_binary_accuracy: 0.8240\n",
      "Epoch 36/100\n",
      "30/30 [==============================] - 0s 2ms/step - loss: 0.3580 - binary_accuracy: 0.8378 - val_loss: 0.3891 - val_binary_accuracy: 0.8281\n",
      "Epoch 37/100\n",
      "30/30 [==============================] - 0s 2ms/step - loss: 0.3542 - binary_accuracy: 0.8372 - val_loss: 0.3887 - val_binary_accuracy: 0.8219\n",
      "Epoch 38/100\n",
      "30/30 [==============================] - 0s 2ms/step - loss: 0.3511 - binary_accuracy: 0.8456 - val_loss: 0.3899 - val_binary_accuracy: 0.8208\n",
      "Epoch 39/100\n",
      "30/30 [==============================] - 0s 2ms/step - loss: 0.3503 - binary_accuracy: 0.8411 - val_loss: 0.3873 - val_binary_accuracy: 0.8229\n",
      "Epoch 40/100\n",
      "30/30 [==============================] - 0s 2ms/step - loss: 0.3476 - binary_accuracy: 0.8419 - val_loss: 0.3884 - val_binary_accuracy: 0.8229\n",
      "Epoch 41/100\n",
      "30/30 [==============================] - 0s 2ms/step - loss: 0.3483 - binary_accuracy: 0.8461 - val_loss: 0.3860 - val_binary_accuracy: 0.8240\n",
      "Epoch 42/100\n",
      "30/30 [==============================] - 0s 2ms/step - loss: 0.3464 - binary_accuracy: 0.8414 - val_loss: 0.3845 - val_binary_accuracy: 0.8344\n",
      "Epoch 43/100\n",
      "30/30 [==============================] - 0s 2ms/step - loss: 0.3473 - binary_accuracy: 0.8388 - val_loss: 0.3829 - val_binary_accuracy: 0.8219\n",
      "Epoch 44/100\n",
      "30/30 [==============================] - 0s 2ms/step - loss: 0.3539 - binary_accuracy: 0.8440 - val_loss: 0.3806 - val_binary_accuracy: 0.8313\n",
      "Epoch 45/100\n",
      "30/30 [==============================] - 0s 2ms/step - loss: 0.3420 - binary_accuracy: 0.8497 - val_loss: 0.3900 - val_binary_accuracy: 0.8208\n",
      "Epoch 46/100\n",
      "30/30 [==============================] - 0s 2ms/step - loss: 0.3462 - binary_accuracy: 0.8406 - val_loss: 0.3783 - val_binary_accuracy: 0.8333\n",
      "Epoch 47/100\n",
      "30/30 [==============================] - 0s 2ms/step - loss: 0.3451 - binary_accuracy: 0.8417 - val_loss: 0.3792 - val_binary_accuracy: 0.8281\n",
      "Epoch 48/100\n",
      "30/30 [==============================] - 0s 2ms/step - loss: 0.3390 - binary_accuracy: 0.8490 - val_loss: 0.3767 - val_binary_accuracy: 0.8333\n",
      "Epoch 49/100\n",
      "30/30 [==============================] - 0s 2ms/step - loss: 0.3426 - binary_accuracy: 0.8432 - val_loss: 0.3762 - val_binary_accuracy: 0.8323\n",
      "Epoch 50/100\n",
      "30/30 [==============================] - 0s 2ms/step - loss: 0.3398 - binary_accuracy: 0.8471 - val_loss: 0.3765 - val_binary_accuracy: 0.8396\n",
      "Epoch 51/100\n",
      "30/30 [==============================] - 0s 2ms/step - loss: 0.3418 - binary_accuracy: 0.8456 - val_loss: 0.3747 - val_binary_accuracy: 0.8354\n",
      "Epoch 52/100\n",
      "30/30 [==============================] - 0s 2ms/step - loss: 0.3444 - binary_accuracy: 0.8451 - val_loss: 0.3740 - val_binary_accuracy: 0.8365\n",
      "Epoch 53/100\n",
      "30/30 [==============================] - 0s 2ms/step - loss: 0.3380 - binary_accuracy: 0.8453 - val_loss: 0.3748 - val_binary_accuracy: 0.8365\n",
      "Epoch 54/100\n",
      "30/30 [==============================] - 0s 2ms/step - loss: 0.3355 - binary_accuracy: 0.8497 - val_loss: 0.3725 - val_binary_accuracy: 0.8375\n",
      "Epoch 55/100\n",
      "30/30 [==============================] - 0s 2ms/step - loss: 0.3370 - binary_accuracy: 0.8508 - val_loss: 0.3755 - val_binary_accuracy: 0.8302\n",
      "Epoch 56/100\n",
      "30/30 [==============================] - 0s 3ms/step - loss: 0.3413 - binary_accuracy: 0.8464 - val_loss: 0.3761 - val_binary_accuracy: 0.8323\n",
      "Epoch 57/100\n",
      "30/30 [==============================] - 0s 2ms/step - loss: 0.3334 - binary_accuracy: 0.8557 - val_loss: 0.3718 - val_binary_accuracy: 0.8375\n",
      "Epoch 58/100\n",
      "30/30 [==============================] - 0s 2ms/step - loss: 0.3406 - binary_accuracy: 0.8508 - val_loss: 0.3861 - val_binary_accuracy: 0.8260\n",
      "Epoch 59/100\n",
      "30/30 [==============================] - 0s 3ms/step - loss: 0.3429 - binary_accuracy: 0.8464 - val_loss: 0.3707 - val_binary_accuracy: 0.8354\n",
      "Epoch 60/100\n",
      "30/30 [==============================] - 0s 2ms/step - loss: 0.3339 - binary_accuracy: 0.8497 - val_loss: 0.3704 - val_binary_accuracy: 0.8385\n",
      "Epoch 61/100\n",
      "30/30 [==============================] - 0s 2ms/step - loss: 0.3374 - binary_accuracy: 0.8536 - val_loss: 0.3700 - val_binary_accuracy: 0.8396\n",
      "Epoch 62/100\n",
      "30/30 [==============================] - 0s 2ms/step - loss: 0.3369 - binary_accuracy: 0.8466 - val_loss: 0.3705 - val_binary_accuracy: 0.8406\n",
      "Epoch 63/100\n",
      "30/30 [==============================] - 0s 3ms/step - loss: 0.3297 - binary_accuracy: 0.8549 - val_loss: 0.3689 - val_binary_accuracy: 0.8385\n",
      "Epoch 64/100\n",
      "30/30 [==============================] - 0s 2ms/step - loss: 0.3344 - binary_accuracy: 0.8490 - val_loss: 0.3702 - val_binary_accuracy: 0.8375\n",
      "Epoch 65/100\n",
      "30/30 [==============================] - 0s 2ms/step - loss: 0.3313 - binary_accuracy: 0.8568 - val_loss: 0.3676 - val_binary_accuracy: 0.8396\n",
      "Epoch 66/100\n",
      "30/30 [==============================] - 0s 2ms/step - loss: 0.3274 - binary_accuracy: 0.8531 - val_loss: 0.3679 - val_binary_accuracy: 0.8396\n",
      "Epoch 67/100\n",
      "30/30 [==============================] - 0s 3ms/step - loss: 0.3276 - binary_accuracy: 0.8560 - val_loss: 0.3671 - val_binary_accuracy: 0.8417\n",
      "Epoch 68/100\n",
      "30/30 [==============================] - 0s 3ms/step - loss: 0.3309 - binary_accuracy: 0.8547 - val_loss: 0.3663 - val_binary_accuracy: 0.8396\n",
      "Epoch 69/100\n",
      "30/30 [==============================] - 0s 2ms/step - loss: 0.3352 - binary_accuracy: 0.8542 - val_loss: 0.3659 - val_binary_accuracy: 0.8406\n",
      "Epoch 70/100\n",
      "30/30 [==============================] - 0s 2ms/step - loss: 0.3285 - binary_accuracy: 0.8552 - val_loss: 0.3651 - val_binary_accuracy: 0.8427\n",
      "Epoch 71/100\n",
      "30/30 [==============================] - 0s 2ms/step - loss: 0.3276 - binary_accuracy: 0.8531 - val_loss: 0.3644 - val_binary_accuracy: 0.8417\n",
      "Epoch 72/100\n",
      "30/30 [==============================] - 0s 3ms/step - loss: 0.3263 - binary_accuracy: 0.8609 - val_loss: 0.3655 - val_binary_accuracy: 0.8385\n",
      "Epoch 73/100\n",
      "30/30 [==============================] - 0s 2ms/step - loss: 0.3284 - binary_accuracy: 0.8560 - val_loss: 0.3644 - val_binary_accuracy: 0.8406\n",
      "Epoch 74/100\n",
      "30/30 [==============================] - 0s 3ms/step - loss: 0.3323 - binary_accuracy: 0.8521 - val_loss: 0.3663 - val_binary_accuracy: 0.8396\n",
      "Epoch 75/100\n",
      "30/30 [==============================] - 0s 2ms/step - loss: 0.3224 - binary_accuracy: 0.8555 - val_loss: 0.3641 - val_binary_accuracy: 0.8417\n",
      "Epoch 76/100\n",
      "30/30 [==============================] - 0s 2ms/step - loss: 0.3256 - binary_accuracy: 0.8562 - val_loss: 0.3656 - val_binary_accuracy: 0.8417\n",
      "Epoch 77/100\n",
      "30/30 [==============================] - 0s 2ms/step - loss: 0.3224 - binary_accuracy: 0.8625 - val_loss: 0.3625 - val_binary_accuracy: 0.8406\n",
      "Epoch 78/100\n",
      "30/30 [==============================] - 0s 3ms/step - loss: 0.3255 - binary_accuracy: 0.8570 - val_loss: 0.3634 - val_binary_accuracy: 0.8417\n",
      "Epoch 79/100\n",
      "30/30 [==============================] - 0s 2ms/step - loss: 0.3298 - binary_accuracy: 0.8516 - val_loss: 0.3632 - val_binary_accuracy: 0.8375\n",
      "Epoch 80/100\n",
      "30/30 [==============================] - 0s 3ms/step - loss: 0.3261 - binary_accuracy: 0.8534 - val_loss: 0.3618 - val_binary_accuracy: 0.8427\n",
      "Epoch 81/100\n",
      "30/30 [==============================] - 0s 2ms/step - loss: 0.3257 - binary_accuracy: 0.8542 - val_loss: 0.3636 - val_binary_accuracy: 0.8406\n",
      "Epoch 82/100\n",
      "30/30 [==============================] - 0s 2ms/step - loss: 0.3217 - binary_accuracy: 0.8576 - val_loss: 0.3628 - val_binary_accuracy: 0.8427\n",
      "Epoch 83/100\n",
      "30/30 [==============================] - 0s 2ms/step - loss: 0.3276 - binary_accuracy: 0.8557 - val_loss: 0.3601 - val_binary_accuracy: 0.8438\n",
      "Epoch 84/100\n",
      "30/30 [==============================] - 0s 2ms/step - loss: 0.3189 - binary_accuracy: 0.8625 - val_loss: 0.3746 - val_binary_accuracy: 0.8302\n",
      "Epoch 85/100\n",
      "30/30 [==============================] - 0s 3ms/step - loss: 0.3252 - binary_accuracy: 0.8586 - val_loss: 0.3666 - val_binary_accuracy: 0.8406\n",
      "Epoch 86/100\n",
      "30/30 [==============================] - 0s 3ms/step - loss: 0.3238 - binary_accuracy: 0.8570 - val_loss: 0.3640 - val_binary_accuracy: 0.8354\n",
      "Epoch 87/100\n",
      "30/30 [==============================] - 0s 2ms/step - loss: 0.3230 - binary_accuracy: 0.8544 - val_loss: 0.3645 - val_binary_accuracy: 0.8458\n",
      "Epoch 88/100\n",
      "30/30 [==============================] - 0s 2ms/step - loss: 0.3226 - binary_accuracy: 0.8549 - val_loss: 0.3588 - val_binary_accuracy: 0.8469\n",
      "Epoch 89/100\n",
      "30/30 [==============================] - 0s 2ms/step - loss: 0.3174 - binary_accuracy: 0.8615 - val_loss: 0.3597 - val_binary_accuracy: 0.8448\n",
      "Epoch 90/100\n",
      "30/30 [==============================] - 0s 2ms/step - loss: 0.3199 - binary_accuracy: 0.8560 - val_loss: 0.3585 - val_binary_accuracy: 0.8385\n",
      "Epoch 91/100\n",
      "30/30 [==============================] - 0s 2ms/step - loss: 0.3227 - binary_accuracy: 0.8544 - val_loss: 0.3621 - val_binary_accuracy: 0.8427\n",
      "Epoch 92/100\n",
      "30/30 [==============================] - 0s 2ms/step - loss: 0.3180 - binary_accuracy: 0.8622 - val_loss: 0.3591 - val_binary_accuracy: 0.8406\n",
      "Epoch 93/100\n",
      "30/30 [==============================] - 0s 2ms/step - loss: 0.3228 - binary_accuracy: 0.8549 - val_loss: 0.3615 - val_binary_accuracy: 0.8438\n",
      "Epoch 94/100\n",
      "30/30 [==============================] - 0s 2ms/step - loss: 0.3213 - binary_accuracy: 0.8562 - val_loss: 0.3582 - val_binary_accuracy: 0.8479\n",
      "Epoch 95/100\n",
      "30/30 [==============================] - 0s 2ms/step - loss: 0.3252 - binary_accuracy: 0.8573 - val_loss: 0.3673 - val_binary_accuracy: 0.8406\n",
      "Epoch 96/100\n",
      "30/30 [==============================] - 0s 2ms/step - loss: 0.3260 - binary_accuracy: 0.8602 - val_loss: 0.3583 - val_binary_accuracy: 0.8448\n",
      "Epoch 97/100\n",
      "30/30 [==============================] - 0s 3ms/step - loss: 0.3210 - binary_accuracy: 0.8628 - val_loss: 0.3571 - val_binary_accuracy: 0.8417\n",
      "Epoch 98/100\n",
      "30/30 [==============================] - 0s 2ms/step - loss: 0.3189 - binary_accuracy: 0.8599 - val_loss: 0.3577 - val_binary_accuracy: 0.8448\n",
      "Epoch 99/100\n",
      "30/30 [==============================] - 0s 2ms/step - loss: 0.3233 - binary_accuracy: 0.8555 - val_loss: 0.3582 - val_binary_accuracy: 0.8469\n",
      "Epoch 100/100\n",
      "30/30 [==============================] - 0s 2ms/step - loss: 0.3170 - binary_accuracy: 0.8609 - val_loss: 0.3579 - val_binary_accuracy: 0.8375\n"
     ]
    }
   ],
   "source": [
    "history = lr_model.fit(\n",
    "    X_train,\n",
    "    Y_train,\n",
    "    epochs=100,\n",
    "    batch_size=128,\n",
    "    validation_split=0.2,\n",
    "    verbose=1\n",
    ")"
   ]
  },
  {
   "cell_type": "code",
   "execution_count": 53,
   "metadata": {},
   "outputs": [
    {
     "data": {
      "text/html": [
       "<div>\n",
       "<style scoped>\n",
       "    .dataframe tbody tr th:only-of-type {\n",
       "        vertical-align: middle;\n",
       "    }\n",
       "\n",
       "    .dataframe tbody tr th {\n",
       "        vertical-align: top;\n",
       "    }\n",
       "\n",
       "    .dataframe thead th {\n",
       "        text-align: right;\n",
       "    }\n",
       "</style>\n",
       "<table border=\"1\" class=\"dataframe\">\n",
       "  <thead>\n",
       "    <tr style=\"text-align: right;\">\n",
       "      <th></th>\n",
       "      <th>loss</th>\n",
       "      <th>binary_accuracy</th>\n",
       "      <th>val_loss</th>\n",
       "      <th>val_binary_accuracy</th>\n",
       "      <th>epoch</th>\n",
       "    </tr>\n",
       "  </thead>\n",
       "  <tbody>\n",
       "    <tr>\n",
       "      <th>95</th>\n",
       "      <td>0.325962</td>\n",
       "      <td>0.860156</td>\n",
       "      <td>0.358279</td>\n",
       "      <td>0.844792</td>\n",
       "      <td>95</td>\n",
       "    </tr>\n",
       "    <tr>\n",
       "      <th>96</th>\n",
       "      <td>0.320990</td>\n",
       "      <td>0.862760</td>\n",
       "      <td>0.357061</td>\n",
       "      <td>0.841667</td>\n",
       "      <td>96</td>\n",
       "    </tr>\n",
       "    <tr>\n",
       "      <th>97</th>\n",
       "      <td>0.318930</td>\n",
       "      <td>0.859896</td>\n",
       "      <td>0.357688</td>\n",
       "      <td>0.844792</td>\n",
       "      <td>97</td>\n",
       "    </tr>\n",
       "    <tr>\n",
       "      <th>98</th>\n",
       "      <td>0.323278</td>\n",
       "      <td>0.855469</td>\n",
       "      <td>0.358151</td>\n",
       "      <td>0.846875</td>\n",
       "      <td>98</td>\n",
       "    </tr>\n",
       "    <tr>\n",
       "      <th>99</th>\n",
       "      <td>0.316960</td>\n",
       "      <td>0.860937</td>\n",
       "      <td>0.357918</td>\n",
       "      <td>0.837500</td>\n",
       "      <td>99</td>\n",
       "    </tr>\n",
       "  </tbody>\n",
       "</table>\n",
       "</div>"
      ],
      "text/plain": [
       "        loss  binary_accuracy  val_loss  val_binary_accuracy  epoch\n",
       "95  0.325962         0.860156  0.358279             0.844792     95\n",
       "96  0.320990         0.862760  0.357061             0.841667     96\n",
       "97  0.318930         0.859896  0.357688             0.844792     97\n",
       "98  0.323278         0.855469  0.358151             0.846875     98\n",
       "99  0.316960         0.860937  0.357918             0.837500     99"
      ]
     },
     "execution_count": 53,
     "metadata": {},
     "output_type": "execute_result"
    }
   ],
   "source": [
    "history_df = pd.DataFrame(history.history)\n",
    "history_df['epoch'] = history.epoch\n",
    "history_df.tail()"
   ]
  },
  {
   "cell_type": "code",
   "execution_count": 54,
   "metadata": {},
   "outputs": [
    {
     "data": {
      "text/plain": [
       "<matplotlib.legend.Legend at 0x7fe8d8567ba8>"
      ]
     },
     "execution_count": 54,
     "metadata": {},
     "output_type": "execute_result"
    },
    {
     "data": {
      "image/png": "[encoded data removed]",
      "text/plain": [
       "<Figure size 432x288 with 1 Axes>"
      ]
     },
     "metadata": {
      "needs_background": "light"
     },
     "output_type": "display_data"
    }
   ],
   "source": [
    "plt.xlabel('epochs')\n",
    "plt.ylabel('loss')\n",
    "#plt.ylim([0, 100])\n",
    "plt.plot(history_df['epoch'], history_df['loss'], label='Training')\n",
    "plt.plot(history_df['epoch'], history_df['val_loss'], label='Validation', linestyle='dashed')\n",
    "plt.legend(loc='upper center', shadow=False)"
   ]
  },
  {
   "cell_type": "markdown",
   "metadata": {},
   "source": [
    "### Model Evaluation"
   ]
  },
  {
   "cell_type": "code",
   "execution_count": 55,
   "metadata": {},
   "outputs": [
    {
     "name": "stdout",
     "output_type": "stream",
     "text": [
      "38/38 [==============================] - 0s 861us/step - loss: 0.3568 - binary_accuracy: 0.8333\n"
     ]
    },
    {
     "data": {
      "text/plain": [
       "[0.356804221868515, 0.8333333134651184]"
      ]
     },
     "execution_count": 55,
     "metadata": {},
     "output_type": "execute_result"
    }
   ],
   "source": [
    "lr_model.evaluate(X_test, Y_test)"
   ]
  },
  {
   "cell_type": "markdown",
   "metadata": {},
   "source": [
    "### Inference"
   ]
  },
  {
   "cell_type": "code",
   "execution_count": 60,
   "metadata": {},
   "outputs": [
    {
     "name": "stdout",
     "output_type": "stream",
     "text": [
      "forza Fiorentina: 1\n",
      "la Juventus è una squadra di merda: 0\n",
      "oggi mi sono divertito molto: 1\n",
      "è un posto orrendo, non ci andrò mai più: 0\n",
      "oggi è una bellissima giornata: 1\n"
     ]
    }
   ],
   "source": [
    "sentences = [\n",
    "    \"forza Fiorentina\",\n",
    "    \"la Juventus è una squadra di merda\",\n",
    "    \"oggi mi sono divertito molto\", \n",
    "    \"è un posto orrendo, non ci andrò mai più\", \n",
    "    \"oggi è una bellissima giornata\"]\n",
    "\n",
    "tokenized = tokenize(sentences)\n",
    "padded = pad_tokens(tokenized, max_len)\n",
    "attention_mask = get_attention_mask(padded)\n",
    "attention_mask = tf.convert_to_tensor(attention_mask, dtype=tf.int32)\n",
    "input_ids = tf.convert_to_tensor(padded, dtype=tf.int32)\n",
    "\n",
    "last_hidden_states = model(input_ids, attention_mask = attention_mask)\n",
    "\n",
    "features = last_hidden_states[0][:,0,:].numpy()\n",
    "predictions = lr_model.predict(features) > .5\n",
    "\n",
    "for i in range(len(sentences)):\n",
    "    print(f'{sentences[i]}: {int(predictions[i][0])}')"
   ]
  }
 ],
 "metadata": {
  "kernelspec": {
   "display_name": "venvML",
   "language": "python",
   "name": "python3"
  },
  "language_info": {
   "codemirror_mode": {
    "name": "ipython",
    "version": 3
   },
   "file_extension": ".py",
   "mimetype": "text/x-python",
   "name": "python",
   "nbconvert_exporter": "python",
   "pygments_lexer": "ipython3",
   "version": "3.7.3"
  },
  "orig_nbformat": 4
 },
 "nbformat": 4,
 "nbformat_minor": 2
}
